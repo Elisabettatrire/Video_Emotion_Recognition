{
  "nbformat": 4,
  "nbformat_minor": 0,
  "metadata": {
    "colab": {
      "name": "LSTM_features.ipynb",
      "provenance": [],
      "collapsed_sections": [],
      "authorship_tag": "ABX9TyO9K+jQojuQa/KawfjhOkzi",
      "include_colab_link": true
    },
    "kernelspec": {
      "name": "python3",
      "display_name": "Python 3"
    },
    "language_info": {
      "name": "python"
    }
  },
  "cells": [
    {
      "cell_type": "markdown",
      "metadata": {
        "id": "view-in-github",
        "colab_type": "text"
      },
      "source": [
        "<a href=\"https://colab.research.google.com/github/Elisabettatrire/Video_Emotion_Recognition/blob/main/LSTM_features.ipynb\" target=\"_parent\"><img src=\"https://colab.research.google.com/assets/colab-badge.svg\" alt=\"Open In Colab\"/></a>"
      ]
    },
    {
      "cell_type": "code",
      "metadata": {
        "id": "5pK1LqMJbFj6"
      },
      "source": [
        "#load the necessary libraries\n",
        "from tensorflow.keras.applications.vgg16 import VGG16\n",
        "from tensorflow.keras.preprocessing import image\n",
        "from tensorflow.keras.applications.vgg16 import preprocess_input\n",
        "from keras.preprocessing.image import ImageDataGenerator, load_img, img_to_array\n",
        "import numpy as np\n",
        "import tensorflow as tf\n",
        "from keras import callbacks\n",
        "from keras import optimizers\n",
        "from keras.engine import Model\n",
        "from keras.layers import Dropout, Flatten, Dense\n",
        "from keras.optimizers import Adam\n",
        "from keras.applications import VGG16\n",
        "from keras.datasets import cifar10\n",
        "from keras.utils import to_categorical\n",
        "from tensorflow.keras.preprocessing import timeseries_dataset_from_array\n",
        "from keras.models import Sequential"
      ],
      "execution_count": null,
      "outputs": []
    },
    {
      "cell_type": "code",
      "metadata": {
        "colab": {
          "base_uri": "https://localhost:8080/"
        },
        "id": "_BqKbMZJ61B9",
        "outputId": "bd550316-0cc0-4753-a47e-db94569a9e51"
      },
      "source": [
        "train_datagen = ImageDataGenerator(rescale=1./255)\n",
        "X_train = train_datagen.flow_from_directory(\n",
        "        '.../TIROCINIO/train_ok4',\n",
        "        target_size=(150,150),\n",
        "        #batch_size=32,\n",
        "        shuffle=False,\n",
        "        class_mode=\"categorical\"\n",
        "    )"
      ],
      "execution_count": null,
      "outputs": [
        {
          "output_type": "stream",
          "text": [
            "Found 1032 images belonging to 7 classes.\n"
          ],
          "name": "stdout"
        }
      ]
    },
    {
      "cell_type": "code",
      "metadata": {
        "colab": {
          "base_uri": "https://localhost:8080/"
        },
        "id": "TKYM3xNW64cW",
        "outputId": "c136dfbb-0474-443b-9ac7-a17290ff0aca"
      },
      "source": [
        "train_datagen = ImageDataGenerator(rescale=1./255)\n",
        "X_test = train_datagen.flow_from_directory(\n",
        "        '.../TIROCINIO/test_ok4',\n",
        "        target_size=(150,150),\n",
        "        #batch_size=32,\n",
        "        shuffle=False,\n",
        "        class_mode=\"categorical\"\n",
        "    )"
      ],
      "execution_count": null,
      "outputs": [
        {
          "output_type": "stream",
          "text": [
            "Found 260 images belonging to 7 classes.\n"
          ],
          "name": "stdout"
        }
      ]
    },
    {
      "cell_type": "code",
      "metadata": {
        "colab": {
          "base_uri": "https://localhost:8080/"
        },
        "id": "2fBE0jheCfXS",
        "outputId": "47699f3d-82cd-4ea6-953a-f3a1546aae92"
      },
      "source": [
        "#import of VGG16 model chosen for feature extraction\n",
        "import os\n",
        "from tensorflow import keras\n",
        "modelg = keras.models.load_model('...TIROCINIO/modello_per_features_3200')\n",
        "modelg.summary()"
      ],
      "execution_count": null,
      "outputs": [
        {
          "output_type": "stream",
          "text": [
            "Model: \"model_1\"\n",
            "_________________________________________________________________\n",
            "Layer (type)                 Output Shape              Param #   \n",
            "=================================================================\n",
            "input_1 (InputLayer)         [(None, 150, 150, 3)]     0         \n",
            "_________________________________________________________________\n",
            "block1_conv1 (Conv2D)        (None, 150, 150, 64)      1792      \n",
            "_________________________________________________________________\n",
            "block1_conv2 (Conv2D)        (None, 150, 150, 64)      36928     \n",
            "_________________________________________________________________\n",
            "block1_pool (MaxPooling2D)   (None, 75, 75, 64)        0         \n",
            "_________________________________________________________________\n",
            "block2_conv1 (Conv2D)        (None, 75, 75, 128)       73856     \n",
            "_________________________________________________________________\n",
            "block2_conv2 (Conv2D)        (None, 75, 75, 128)       147584    \n",
            "_________________________________________________________________\n",
            "block2_pool (MaxPooling2D)   (None, 37, 37, 128)       0         \n",
            "_________________________________________________________________\n",
            "block3_conv1 (Conv2D)        (None, 37, 37, 256)       295168    \n",
            "_________________________________________________________________\n",
            "block3_conv2 (Conv2D)        (None, 37, 37, 256)       590080    \n",
            "_________________________________________________________________\n",
            "block3_conv3 (Conv2D)        (None, 37, 37, 256)       590080    \n",
            "_________________________________________________________________\n",
            "block3_pool (MaxPooling2D)   (None, 18, 18, 256)       0         \n",
            "_________________________________________________________________\n",
            "block4_conv1 (Conv2D)        (None, 18, 18, 512)       1180160   \n",
            "_________________________________________________________________\n",
            "block4_conv2 (Conv2D)        (None, 18, 18, 512)       2359808   \n",
            "_________________________________________________________________\n",
            "block4_conv3 (Conv2D)        (None, 18, 18, 512)       2359808   \n",
            "_________________________________________________________________\n",
            "block4_pool (MaxPooling2D)   (None, 9, 9, 512)         0         \n",
            "_________________________________________________________________\n",
            "block5_conv1 (Conv2D)        (None, 9, 9, 512)         2359808   \n",
            "_________________________________________________________________\n",
            "block5_conv2 (Conv2D)        (None, 9, 9, 512)         2359808   \n",
            "_________________________________________________________________\n",
            "block5_conv3 (Conv2D)        (None, 9, 9, 512)         2359808   \n",
            "_________________________________________________________________\n",
            "block5_pool (MaxPooling2D)   (None, 4, 4, 512)         0         \n",
            "_________________________________________________________________\n",
            "flatten_1 (Flatten)          (None, 8192)              0         \n",
            "=================================================================\n",
            "Total params: 14,714,688\n",
            "Trainable params: 14,714,688\n",
            "Non-trainable params: 0\n",
            "_________________________________________________________________\n"
          ],
          "name": "stdout"
        }
      ]
    },
    {
      "cell_type": "code",
      "metadata": {
        "colab": {
          "base_uri": "https://localhost:8080/"
        },
        "id": "osuElyFtNTIU",
        "outputId": "ff133fc9-311d-43bf-fa11-5946c5885dd1"
      },
      "source": [
        "#calculate features for the training set\n",
        "features = modelg.predict(X_train)\n",
        "\n",
        "print(features)\n"
      ],
      "execution_count": null,
      "outputs": [
        {
          "output_type": "stream",
          "text": [
            "[[0.         0.         0.         ... 0.         0.31986946 0.        ]\n",
            " [0.         0.         0.         ... 0.03594523 0.36866438 0.        ]\n",
            " [0.         0.         0.         ... 0.02009813 0.32534355 0.        ]\n",
            " ...\n",
            " [0.         0.         0.         ... 0.         0.5503353  0.        ]\n",
            " [0.0682815  0.         0.         ... 0.         0.6612428  0.        ]\n",
            " [0.20241982 0.         0.         ... 0.         0.6738532  0.        ]]\n"
          ],
          "name": "stdout"
        }
      ]
    },
    {
      "cell_type": "code",
      "metadata": {
        "colab": {
          "base_uri": "https://localhost:8080/"
        },
        "id": "vqt1iBrObWxz",
        "outputId": "ff46055c-72bb-4c88-c4a1-febc2145af37"
      },
      "source": [
        "features.shape"
      ],
      "execution_count": null,
      "outputs": [
        {
          "output_type": "execute_result",
          "data": {
            "text/plain": [
              "(1032, 8192)"
            ]
          },
          "metadata": {
            "tags": []
          },
          "execution_count": 61
        }
      ]
    },
    {
      "cell_type": "code",
      "metadata": {
        "id": "j4sDpRN3bJ2-"
      },
      "source": [
        "trainf= features.reshape(258,4,8192)\n",
        "#train_set"
      ],
      "execution_count": null,
      "outputs": []
    },
    {
      "cell_type": "code",
      "metadata": {
        "colab": {
          "base_uri": "https://localhost:8080/"
        },
        "id": "M7059ghybZpd",
        "outputId": "c1a2b4f0-90fd-42d1-956d-e92df595de1f"
      },
      "source": [
        "trainf.shape"
      ],
      "execution_count": null,
      "outputs": [
        {
          "output_type": "execute_result",
          "data": {
            "text/plain": [
              "(258, 4, 8192)"
            ]
          },
          "metadata": {
            "tags": []
          },
          "execution_count": 63
        }
      ]
    },
    {
      "cell_type": "code",
      "metadata": {
        "colab": {
          "base_uri": "https://localhost:8080/"
        },
        "id": "Uo6DGgqGRay9",
        "outputId": "1516cd6a-559d-42d1-8533-65ce6d2e4bac"
      },
      "source": [
        "#calculate features for the test set\n",
        "\n",
        "featurestest = modelg.predict(X_test)\n",
        "\n",
        "print(featurestest)"
      ],
      "execution_count": null,
      "outputs": [
        {
          "output_type": "stream",
          "text": [
            "[[0.10125333 0.         0.         ... 0.06139778 0.637197   0.        ]\n",
            " [0.259902   0.         0.         ... 0.14237384 0.6901121  0.        ]\n",
            " [0.11936915 0.         0.         ... 0.08533359 0.5789906  0.        ]\n",
            " ...\n",
            " [0.2866547  0.         0.         ... 0.05090619 0.44047058 0.        ]\n",
            " [0.21437454 0.         0.         ... 0.04646188 0.45642054 0.        ]\n",
            " [0.27361587 0.         0.         ... 0.         0.34537944 0.        ]]\n"
          ],
          "name": "stdout"
        }
      ]
    },
    {
      "cell_type": "code",
      "metadata": {
        "colab": {
          "base_uri": "https://localhost:8080/"
        },
        "id": "1jJ52b0LVjnI",
        "outputId": "4ae42c26-2ad7-47a5-c3da-aefbd81231fc"
      },
      "source": [
        "featurestest.shape"
      ],
      "execution_count": null,
      "outputs": [
        {
          "output_type": "execute_result",
          "data": {
            "text/plain": [
              "(260, 8192)"
            ]
          },
          "metadata": {
            "tags": []
          },
          "execution_count": 64
        }
      ]
    },
    {
      "cell_type": "code",
      "metadata": {
        "id": "ycflsNcEayqu"
      },
      "source": [
        "testf= featurestest.reshape(65,4,8192)\n",
        "#test_set"
      ],
      "execution_count": null,
      "outputs": []
    },
    {
      "cell_type": "code",
      "metadata": {
        "colab": {
          "base_uri": "https://localhost:8080/"
        },
        "id": "WQKSPM21cMuf",
        "outputId": "194715ea-1600-4092-de36-5de622478427"
      },
      "source": [
        "testf.shape"
      ],
      "execution_count": null,
      "outputs": [
        {
          "output_type": "execute_result",
          "data": {
            "text/plain": [
              "(65, 4, 8192)"
            ]
          },
          "metadata": {
            "tags": []
          },
          "execution_count": 66
        }
      ]
    },
    {
      "cell_type": "code",
      "metadata": {
        "id": "ZgMhPDMTdB19"
      },
      "source": [
        "#create one hot encoded labels for test set\n",
        "w=X_test.labels\n",
        "c = np.zeros((w.size, w.max()+1))\n",
        "c[np.arange(w.size),w] = 1\n",
        "ctest=c.reshape(65,4,7)\n",
        "ctest = ctest[:,0,:]\n",
        "#ctest = np.argmax(ctest, axis=-1)"
      ],
      "execution_count": null,
      "outputs": []
    },
    {
      "cell_type": "code",
      "metadata": {
        "id": "fPsbL7kGdDya",
        "colab": {
          "base_uri": "https://localhost:8080/"
        },
        "outputId": "f05a7802-b876-4917-9190-dee58a6aef12"
      },
      "source": [
        "ctest.shape"
      ],
      "execution_count": null,
      "outputs": [
        {
          "output_type": "execute_result",
          "data": {
            "text/plain": [
              "(65, 7)"
            ]
          },
          "metadata": {
            "tags": []
          },
          "execution_count": 68
        }
      ]
    },
    {
      "cell_type": "code",
      "metadata": {
        "id": "kc4YZH7ZdaR-"
      },
      "source": [
        "#create one hot encoded labels for train set\n",
        "v=X_train.labels\n",
        "b = np.zeros((v.size, v.max()+1))\n",
        "b[np.arange(v.size),v] = 1\n",
        "btrain=b.reshape(258,4,7)\n",
        "btrain = btrain[:,0,:]"
      ],
      "execution_count": null,
      "outputs": []
    },
    {
      "cell_type": "code",
      "metadata": {
        "colab": {
          "base_uri": "https://localhost:8080/"
        },
        "id": "lH083mdHde-T",
        "outputId": "cc7a950f-6fa5-4d19-a90c-fa68d38b8b6a"
      },
      "source": [
        "btrain"
      ],
      "execution_count": null,
      "outputs": [
        {
          "output_type": "execute_result",
          "data": {
            "text/plain": [
              "array([[1., 0., 0., ..., 0., 0., 0.],\n",
              "       [1., 0., 0., ..., 0., 0., 0.],\n",
              "       [1., 0., 0., ..., 0., 0., 0.],\n",
              "       ...,\n",
              "       [0., 0., 0., ..., 0., 0., 1.],\n",
              "       [0., 0., 0., ..., 0., 0., 1.],\n",
              "       [0., 0., 0., ..., 0., 0., 1.]])"
            ]
          },
          "metadata": {
            "tags": []
          },
          "execution_count": 70
        }
      ]
    },
    {
      "cell_type": "code",
      "metadata": {
        "id": "eJQcv9IpgJWC"
      },
      "source": [
        "from keras.layers import LSTM\n",
        "n_timesteps=4\n",
        "n_features=8192\n",
        "n_outputs=7\n",
        "model = Sequential()\n",
        "\n",
        "#model.add(Dropout(0.5))\n",
        "#model.add(LSTM(100))\n",
        "model.add(LSTM(100, input_shape=( n_timesteps,n_features),  return_sequences=True))\n",
        "#model.add(Dropout(0.5))\n",
        "model.add(Flatten())\n",
        "#model.add(Dense(3200, activation='relu'))\n",
        "model.add(Dense(7, activation='softmax'))\n",
        "\n",
        "model.compile(loss='categorical_crossentropy', optimizer='adam', metrics=['accuracy'])"
      ],
      "execution_count": null,
      "outputs": []
    },
    {
      "cell_type": "code",
      "metadata": {
        "colab": {
          "base_uri": "https://localhost:8080/"
        },
        "id": "wIUgB5TDdw5b",
        "outputId": "f8c2dbcd-af86-4456-c08c-5e9998befe49"
      },
      "source": [
        "model.fit(trainf, btrain, validation_data=(testf, ctest), epochs=6)"
      ],
      "execution_count": null,
      "outputs": [
        {
          "output_type": "stream",
          "text": [
            "Epoch 1/6\n",
            "9/9 [==============================] - 3s 120ms/step - loss: 1.7426 - accuracy: 0.3823 - val_loss: 1.3916 - val_accuracy: 0.5538\n",
            "Epoch 2/6\n",
            "9/9 [==============================] - 1s 65ms/step - loss: 1.0011 - accuracy: 0.7166 - val_loss: 1.1492 - val_accuracy: 0.5538\n",
            "Epoch 3/6\n",
            "9/9 [==============================] - 1s 68ms/step - loss: 0.7472 - accuracy: 0.7746 - val_loss: 1.1419 - val_accuracy: 0.5846\n",
            "Epoch 4/6\n",
            "9/9 [==============================] - 1s 64ms/step - loss: 0.5611 - accuracy: 0.8162 - val_loss: 0.9090 - val_accuracy: 0.7077\n",
            "Epoch 5/6\n",
            "9/9 [==============================] - 1s 63ms/step - loss: 0.3902 - accuracy: 0.9232 - val_loss: 0.9397 - val_accuracy: 0.6154\n",
            "Epoch 6/6\n",
            "9/9 [==============================] - 1s 65ms/step - loss: 0.2509 - accuracy: 0.9711 - val_loss: 0.9622 - val_accuracy: 0.6462\n"
          ],
          "name": "stdout"
        },
        {
          "output_type": "execute_result",
          "data": {
            "text/plain": [
              "<tensorflow.python.keras.callbacks.History at 0x7f765610b1d0>"
            ]
          },
          "metadata": {
            "tags": []
          },
          "execution_count": 72
        }
      ]
    },
    {
      "cell_type": "code",
      "metadata": {
        "colab": {
          "base_uri": "https://localhost:8080/"
        },
        "id": "6t3egdKSGK4F",
        "outputId": "acbaa639-3b6d-428a-ba81-61781d5af439"
      },
      "source": [
        "import numpy as np\n",
        "from sklearn.metrics import confusion_matrix,classification_report\n",
        "\n",
        "class_labels = list(X_train.class_indices.keys())   \n",
        "print(class_labels)\n",
        "v=X_train.labels\n",
        "b = np.zeros((v.size, v.max()+1))\n",
        "b[np.arange(v.size),v] = 1\n",
        "btrain=b.reshape(258,4,7)\n",
        "btrain = btrain[:,0,:]\n",
        "btrain = np.argmax(btrain, axis=-1)\n",
        "predictions = model.predict(trainf)\n",
        "predictions = np.argmax(predictions, axis= -1)\n",
        "#predictions.shape\n",
        "\n",
        "print(confusion_matrix(btrain, predictions,  labels=None, sample_weight=None, normalize=None))\n",
        "print()\n",
        "\n",
        "report = classification_report(btrain, predictions, target_names=class_labels)\n",
        "print(report)"
      ],
      "execution_count": null,
      "outputs": [
        {
          "output_type": "stream",
          "text": [
            "['1_anger', '2_contempt', '3_disgust', '4_fear', '5_happy', '6_sadness', '7_surprise']\n",
            "[[36  0  1  0  0  0  0]\n",
            " [ 1 11  0  0  1  0  0]\n",
            " [ 0  0 47  0  1  0  0]\n",
            " [ 0  0  0 16  2  0  0]\n",
            " [ 0  0  0  0 55  0  0]\n",
            " [ 2  0  0  0  0 20  0]\n",
            " [ 0  0  0  0  0  0 65]]\n",
            "\n",
            "              precision    recall  f1-score   support\n",
            "\n",
            "     1_anger       0.92      0.97      0.95        37\n",
            "  2_contempt       1.00      0.85      0.92        13\n",
            "   3_disgust       0.98      0.98      0.98        48\n",
            "      4_fear       1.00      0.89      0.94        18\n",
            "     5_happy       0.93      1.00      0.96        55\n",
            "   6_sadness       1.00      0.91      0.95        22\n",
            "  7_surprise       1.00      1.00      1.00        65\n",
            "\n",
            "    accuracy                           0.97       258\n",
            "   macro avg       0.98      0.94      0.96       258\n",
            "weighted avg       0.97      0.97      0.97       258\n",
            "\n"
          ],
          "name": "stdout"
        }
      ]
    },
    {
      "cell_type": "code",
      "metadata": {
        "colab": {
          "base_uri": "https://localhost:8080/"
        },
        "id": "miDuuBGfGRQJ",
        "outputId": "1ac0bfc5-b152-41b0-cac4-a75cc0c7bc5b"
      },
      "source": [
        "import numpy as np\n",
        "from sklearn.metrics import confusion_matrix,classification_report\n",
        "\n",
        "class_labels = list(X_test.class_indices.keys())   \n",
        "print(class_labels)\n",
        "w=X_test.labels\n",
        "c = np.zeros((w.size, w.max()+1))\n",
        "c[np.arange(w.size),w] = 1\n",
        "ctest=c.reshape(65,4,7)\n",
        "ctest = ctest[:,0,:]\n",
        "ctest = np.argmax(ctest, axis=-1)\n",
        "predictionstest = model.predict(testf)\n",
        "predictionstest = np.argmax(predictionstest, axis= -1)\n",
        "#predictions.shape\n",
        "\n",
        "#Confusion matrix whose i-th row and j-th column entry indicates \n",
        "#the number of samples with true label being i-th class and predicted label being j-th class.\n",
        "print(confusion_matrix(ctest, predictionstest,  labels=None, sample_weight=None, normalize=None))\n",
        "print()\n",
        "\n",
        "report = classification_report(ctest, predictionstest, target_names=class_labels)\n",
        "print(report)"
      ],
      "execution_count": null,
      "outputs": [
        {
          "output_type": "stream",
          "text": [
            "['1_anger', '2_contempt', '3_disgust', '4_fear', '5_happy', '6_sadness', '7_surprise']\n",
            "[[ 5  0  3  0  0  0  0]\n",
            " [ 1  1  0  2  1  0  0]\n",
            " [ 0  0 10  0  1  0  0]\n",
            " [ 0  0  0  0  5  0  1]\n",
            " [ 0  0  0  0 11  0  1]\n",
            " [ 1  0  1  1  2  0  1]\n",
            " [ 0  1  0  1  0  0 15]]\n",
            "\n",
            "              precision    recall  f1-score   support\n",
            "\n",
            "     1_anger       0.71      0.62      0.67         8\n",
            "  2_contempt       0.50      0.20      0.29         5\n",
            "   3_disgust       0.71      0.91      0.80        11\n",
            "      4_fear       0.00      0.00      0.00         6\n",
            "     5_happy       0.55      0.92      0.69        12\n",
            "   6_sadness       0.00      0.00      0.00         6\n",
            "  7_surprise       0.83      0.88      0.86        17\n",
            "\n",
            "    accuracy                           0.65        65\n",
            "   macro avg       0.47      0.50      0.47        65\n",
            "weighted avg       0.57      0.65      0.59        65\n",
            "\n"
          ],
          "name": "stdout"
        },
        {
          "output_type": "stream",
          "text": [
            "/usr/local/lib/python3.7/dist-packages/sklearn/metrics/_classification.py:1272: UndefinedMetricWarning: Precision and F-score are ill-defined and being set to 0.0 in labels with no predicted samples. Use `zero_division` parameter to control this behavior.\n",
            "  _warn_prf(average, modifier, msg_start, len(result))\n"
          ],
          "name": "stderr"
        }
      ]
    },
    {
      "cell_type": "code",
      "metadata": {
        "colab": {
          "base_uri": "https://localhost:8080/"
        },
        "id": "I4t0CXgcGn13",
        "outputId": "53521936-89e3-4c0f-c2d0-687995b09c8f"
      },
      "source": [
        "model.fit(trainf, btrain, validation_data=(testf, ctest), epochs=5)"
      ],
      "execution_count": null,
      "outputs": [
        {
          "output_type": "stream",
          "text": [
            "Epoch 1/5\n",
            "9/9 [==============================] - 3s 118ms/step - loss: 1.7794 - accuracy: 0.3384 - val_loss: 1.3221 - val_accuracy: 0.5385\n",
            "Epoch 2/5\n",
            "9/9 [==============================] - 1s 68ms/step - loss: 1.0829 - accuracy: 0.5649 - val_loss: 1.2198 - val_accuracy: 0.5846\n",
            "Epoch 3/5\n",
            "9/9 [==============================] - 1s 69ms/step - loss: 0.7513 - accuracy: 0.8009 - val_loss: 1.1736 - val_accuracy: 0.5538\n",
            "Epoch 4/5\n",
            "9/9 [==============================] - 1s 65ms/step - loss: 0.5630 - accuracy: 0.7788 - val_loss: 0.9669 - val_accuracy: 0.6154\n",
            "Epoch 5/5\n",
            "9/9 [==============================] - 1s 65ms/step - loss: 0.4024 - accuracy: 0.9236 - val_loss: 1.0816 - val_accuracy: 0.5846\n"
          ],
          "name": "stdout"
        },
        {
          "output_type": "execute_result",
          "data": {
            "text/plain": [
              "<tensorflow.python.keras.callbacks.History at 0x7f7658a0cc50>"
            ]
          },
          "metadata": {
            "tags": []
          },
          "execution_count": 34
        }
      ]
    },
    {
      "cell_type": "code",
      "metadata": {
        "colab": {
          "base_uri": "https://localhost:8080/"
        },
        "id": "qwCLm7y5G4lx",
        "outputId": "9d48b3bc-1ac4-42fd-caee-4ec4d52547e8"
      },
      "source": [
        "import numpy as np\n",
        "from sklearn.metrics import confusion_matrix,classification_report\n",
        "\n",
        "class_labels = list(X_train.class_indices.keys())   \n",
        "print(class_labels)\n",
        "v=X_train.labels\n",
        "b = np.zeros((v.size, v.max()+1))\n",
        "b[np.arange(v.size),v] = 1\n",
        "btrain=b.reshape(258,4,7)\n",
        "btrain = btrain[:,0,:]\n",
        "btrain = np.argmax(btrain, axis=-1)\n",
        "predictions = model.predict(trainf)\n",
        "predictions = np.argmax(predictions, axis= -1)\n",
        "#predictions.shape\n",
        "\n",
        "print(confusion_matrix(btrain, predictions,  labels=None, sample_weight=None, normalize=None))\n",
        "print()\n",
        "\n",
        "report = classification_report(btrain, predictions, target_names=class_labels)\n",
        "print(report)"
      ],
      "execution_count": null,
      "outputs": [
        {
          "output_type": "stream",
          "text": [
            "['1_anger', '2_contempt', '3_disgust', '4_fear', '5_happy', '6_sadness', '7_surprise']\n",
            "[[31  2  3  0  0  1  0]\n",
            " [ 0 12  0  0  0  1  0]\n",
            " [ 0  0 48  0  0  0  0]\n",
            " [ 0  0  1 15  0  0  2]\n",
            " [ 0  0  2  0 53  0  0]\n",
            " [ 0  1  1  0  0 20  0]\n",
            " [ 0  0  0  0  0  0 65]]\n",
            "\n",
            "              precision    recall  f1-score   support\n",
            "\n",
            "     1_anger       1.00      0.84      0.91        37\n",
            "  2_contempt       0.80      0.92      0.86        13\n",
            "   3_disgust       0.87      1.00      0.93        48\n",
            "      4_fear       1.00      0.83      0.91        18\n",
            "     5_happy       1.00      0.96      0.98        55\n",
            "   6_sadness       0.91      0.91      0.91        22\n",
            "  7_surprise       0.97      1.00      0.98        65\n",
            "\n",
            "    accuracy                           0.95       258\n",
            "   macro avg       0.94      0.92      0.93       258\n",
            "weighted avg       0.95      0.95      0.95       258\n",
            "\n"
          ],
          "name": "stdout"
        }
      ]
    },
    {
      "cell_type": "code",
      "metadata": {
        "colab": {
          "base_uri": "https://localhost:8080/"
        },
        "id": "D4y2ghs3GxMk",
        "outputId": "6513ab19-ac6c-4964-ee37-d8e2e4cbe223"
      },
      "source": [
        "import numpy as np\n",
        "from sklearn.metrics import confusion_matrix,classification_report\n",
        "\n",
        "class_labels = list(X_test.class_indices.keys())   \n",
        "print(class_labels)\n",
        "w=X_test.labels\n",
        "c = np.zeros((w.size, w.max()+1))\n",
        "c[np.arange(w.size),w] = 1\n",
        "ctest=c.reshape(65,4,7)\n",
        "ctest = ctest[:,0,:]\n",
        "ctest = np.argmax(ctest, axis=-1)\n",
        "predictionstest = model.predict(testf)\n",
        "predictionstest = np.argmax(predictionstest, axis= -1)\n",
        "#predictions.shape\n",
        "\n",
        "#Confusion matrix whose i-th row and j-th column entry indicates \n",
        "#the number of samples with true label being i-th class and predicted label being j-th class.\n",
        "print(confusion_matrix(ctest, predictionstest,  labels=None, sample_weight=None, normalize=None))\n",
        "print()\n",
        "\n",
        "report = classification_report(ctest, predictionstest, target_names=class_labels)\n",
        "print(report)"
      ],
      "execution_count": null,
      "outputs": [
        {
          "output_type": "stream",
          "text": [
            "['1_anger', '2_contempt', '3_disgust', '4_fear', '5_happy', '6_sadness', '7_surprise']\n",
            "[[ 3  0  5  0  0  0  0]\n",
            " [ 1  2  0  0  0  1  1]\n",
            " [ 0  0 11  0  0  0  0]\n",
            " [ 1  0  1  0  2  0  2]\n",
            " [ 0  0  4  0  7  0  1]\n",
            " [ 1  0  4  0  0  0  1]\n",
            " [ 0  1  1  0  0  0 15]]\n",
            "\n",
            "              precision    recall  f1-score   support\n",
            "\n",
            "     1_anger       0.50      0.38      0.43         8\n",
            "  2_contempt       0.67      0.40      0.50         5\n",
            "   3_disgust       0.42      1.00      0.59        11\n",
            "      4_fear       0.00      0.00      0.00         6\n",
            "     5_happy       0.78      0.58      0.67        12\n",
            "   6_sadness       0.00      0.00      0.00         6\n",
            "  7_surprise       0.75      0.88      0.81        17\n",
            "\n",
            "    accuracy                           0.58        65\n",
            "   macro avg       0.45      0.46      0.43        65\n",
            "weighted avg       0.52      0.58      0.53        65\n",
            "\n"
          ],
          "name": "stdout"
        },
        {
          "output_type": "stream",
          "text": [
            "/usr/local/lib/python3.7/dist-packages/sklearn/metrics/_classification.py:1272: UndefinedMetricWarning: Precision and F-score are ill-defined and being set to 0.0 in labels with no predicted samples. Use `zero_division` parameter to control this behavior.\n",
            "  _warn_prf(average, modifier, msg_start, len(result))\n"
          ],
          "name": "stderr"
        }
      ]
    },
    {
      "cell_type": "code",
      "metadata": {
        "id": "pYHKkKdAgB5g"
      },
      "source": [
        "from keras.layers import LSTM\n",
        "n_timesteps=4\n",
        "n_features=8192\n",
        "n_outputs=7\n",
        "model = Sequential()\n",
        "\n",
        "#model.add(Dropout(0.5))\n",
        "#model.add(LSTM(100))\n",
        "model.add(LSTM(100, input_shape=( n_timesteps,n_features),  return_sequences=True))\n",
        "model.add(Dropout(0.5))\n",
        "model.add(Flatten())\n",
        "#model.add(Dense(3200, activation='relu'))\n",
        "model.add(Dense(7, activation='softmax'))\n",
        "\n",
        "model.compile(loss='categorical_crossentropy', optimizer='adam', metrics=['accuracy'])"
      ],
      "execution_count": null,
      "outputs": []
    },
    {
      "cell_type": "code",
      "metadata": {
        "colab": {
          "base_uri": "https://localhost:8080/"
        },
        "id": "5Gsk5GZ2hy4d",
        "outputId": "d5426934-849f-4649-e00d-7d2093f07f73"
      },
      "source": [
        "model.summary()"
      ],
      "execution_count": null,
      "outputs": [
        {
          "output_type": "stream",
          "text": [
            "Model: \"sequential_4\"\n",
            "_________________________________________________________________\n",
            "Layer (type)                 Output Shape              Param #   \n",
            "=================================================================\n",
            "lstm_5 (LSTM)                (None, 4, 100)            3317200   \n",
            "_________________________________________________________________\n",
            "dropout_4 (Dropout)          (None, 4, 100)            0         \n",
            "_________________________________________________________________\n",
            "flatten_3 (Flatten)          (None, 400)               0         \n",
            "_________________________________________________________________\n",
            "dense_5 (Dense)              (None, 7)                 2807      \n",
            "=================================================================\n",
            "Total params: 3,320,007\n",
            "Trainable params: 3,320,007\n",
            "Non-trainable params: 0\n",
            "_________________________________________________________________\n"
          ],
          "name": "stdout"
        }
      ]
    },
    {
      "cell_type": "code",
      "metadata": {
        "colab": {
          "base_uri": "https://localhost:8080/"
        },
        "id": "p3iDFNXoh8Wo",
        "outputId": "b589ee79-ace3-4437-cdef-e0881d3c881d"
      },
      "source": [
        "model.fit(trainf, btrain, validation_data=(testf, ctest), epochs=20)"
      ],
      "execution_count": null,
      "outputs": [
        {
          "output_type": "stream",
          "text": [
            "Epoch 1/20\n",
            "9/9 [==============================] - 3s 140ms/step - loss: 1.9029 - accuracy: 0.2817 - val_loss: 1.5163 - val_accuracy: 0.4923\n",
            "Epoch 2/20\n",
            "9/9 [==============================] - 1s 82ms/step - loss: 1.3194 - accuracy: 0.5140 - val_loss: 1.3020 - val_accuracy: 0.5077\n",
            "Epoch 3/20\n",
            "9/9 [==============================] - 1s 83ms/step - loss: 1.1158 - accuracy: 0.5824 - val_loss: 1.2229 - val_accuracy: 0.5231\n",
            "Epoch 4/20\n",
            "9/9 [==============================] - 1s 81ms/step - loss: 1.0232 - accuracy: 0.6404 - val_loss: 1.1727 - val_accuracy: 0.5385\n",
            "Epoch 5/20\n",
            "9/9 [==============================] - 1s 84ms/step - loss: 0.9928 - accuracy: 0.5970 - val_loss: 1.1792 - val_accuracy: 0.5385\n",
            "Epoch 6/20\n",
            "9/9 [==============================] - 1s 80ms/step - loss: 0.8681 - accuracy: 0.6637 - val_loss: 1.1110 - val_accuracy: 0.5538\n",
            "Epoch 7/20\n",
            "9/9 [==============================] - 1s 79ms/step - loss: 0.8010 - accuracy: 0.7181 - val_loss: 1.0833 - val_accuracy: 0.6462\n",
            "Epoch 8/20\n",
            "9/9 [==============================] - 1s 80ms/step - loss: 0.6966 - accuracy: 0.7740 - val_loss: 0.9786 - val_accuracy: 0.6000\n",
            "Epoch 9/20\n",
            "9/9 [==============================] - 1s 83ms/step - loss: 0.5681 - accuracy: 0.8041 - val_loss: 0.9943 - val_accuracy: 0.6615\n",
            "Epoch 10/20\n",
            "9/9 [==============================] - 1s 78ms/step - loss: 0.5351 - accuracy: 0.8475 - val_loss: 0.9769 - val_accuracy: 0.5846\n",
            "Epoch 11/20\n",
            "9/9 [==============================] - 1s 80ms/step - loss: 0.4752 - accuracy: 0.8741 - val_loss: 0.8561 - val_accuracy: 0.6769\n",
            "Epoch 12/20\n",
            "9/9 [==============================] - 1s 80ms/step - loss: 0.4693 - accuracy: 0.8739 - val_loss: 0.9833 - val_accuracy: 0.6462\n",
            "Epoch 13/20\n",
            "9/9 [==============================] - 1s 82ms/step - loss: 0.4513 - accuracy: 0.8794 - val_loss: 0.9464 - val_accuracy: 0.6000\n",
            "Epoch 14/20\n",
            "9/9 [==============================] - 1s 79ms/step - loss: 0.3762 - accuracy: 0.9082 - val_loss: 0.8388 - val_accuracy: 0.6615\n",
            "Epoch 15/20\n",
            "9/9 [==============================] - 1s 81ms/step - loss: 0.3124 - accuracy: 0.9047 - val_loss: 0.8902 - val_accuracy: 0.6615\n",
            "Epoch 16/20\n",
            "9/9 [==============================] - 1s 79ms/step - loss: 0.2890 - accuracy: 0.9296 - val_loss: 0.9334 - val_accuracy: 0.6615\n",
            "Epoch 17/20\n",
            "9/9 [==============================] - 1s 79ms/step - loss: 0.2172 - accuracy: 0.9593 - val_loss: 0.9472 - val_accuracy: 0.6615\n",
            "Epoch 18/20\n",
            "9/9 [==============================] - 1s 80ms/step - loss: 0.1822 - accuracy: 0.9612 - val_loss: 0.8321 - val_accuracy: 0.7231\n",
            "Epoch 19/20\n",
            "9/9 [==============================] - 1s 81ms/step - loss: 0.1552 - accuracy: 0.9632 - val_loss: 0.9460 - val_accuracy: 0.6923\n",
            "Epoch 20/20\n",
            "9/9 [==============================] - 1s 79ms/step - loss: 0.1638 - accuracy: 0.9588 - val_loss: 0.8697 - val_accuracy: 0.7231\n"
          ],
          "name": "stdout"
        },
        {
          "output_type": "execute_result",
          "data": {
            "text/plain": [
              "<tensorflow.python.keras.callbacks.History at 0x7f376c4d6750>"
            ]
          },
          "metadata": {
            "tags": []
          },
          "execution_count": 33
        }
      ]
    },
    {
      "cell_type": "code",
      "metadata": {
        "colab": {
          "base_uri": "https://localhost:8080/"
        },
        "id": "i16gn4I8jl82",
        "outputId": "ea67d5f4-d5ef-4001-c5e9-66bcc1f2dfe0"
      },
      "source": [
        "model.fit(trainf, btrain, validation_data=(testf, ctest), epochs=50)"
      ],
      "execution_count": null,
      "outputs": [
        {
          "output_type": "stream",
          "text": [
            "Epoch 1/50\n",
            "9/9 [==============================] - 3s 155ms/step - loss: 1.9066 - accuracy: 0.2672 - val_loss: 1.4309 - val_accuracy: 0.5385\n",
            "Epoch 2/50\n",
            "9/9 [==============================] - 1s 79ms/step - loss: 1.3015 - accuracy: 0.5151 - val_loss: 1.2820 - val_accuracy: 0.5385\n",
            "Epoch 3/50\n",
            "9/9 [==============================] - 1s 80ms/step - loss: 0.9592 - accuracy: 0.6619 - val_loss: 1.1306 - val_accuracy: 0.5538\n",
            "Epoch 4/50\n",
            "9/9 [==============================] - 1s 78ms/step - loss: 0.8796 - accuracy: 0.7082 - val_loss: 1.2063 - val_accuracy: 0.5538\n",
            "Epoch 5/50\n",
            "9/9 [==============================] - 1s 81ms/step - loss: 0.7447 - accuracy: 0.7996 - val_loss: 1.0052 - val_accuracy: 0.6154\n",
            "Epoch 6/50\n",
            "9/9 [==============================] - 1s 76ms/step - loss: 0.6119 - accuracy: 0.8476 - val_loss: 0.9835 - val_accuracy: 0.6000\n",
            "Epoch 7/50\n",
            "9/9 [==============================] - 1s 80ms/step - loss: 0.4869 - accuracy: 0.8479 - val_loss: 0.8948 - val_accuracy: 0.6923\n",
            "Epoch 8/50\n",
            "9/9 [==============================] - 1s 82ms/step - loss: 0.5010 - accuracy: 0.8238 - val_loss: 0.9664 - val_accuracy: 0.6000\n",
            "Epoch 9/50\n",
            "9/9 [==============================] - 1s 83ms/step - loss: 0.4714 - accuracy: 0.8477 - val_loss: 0.8108 - val_accuracy: 0.7077\n",
            "Epoch 10/50\n",
            "9/9 [==============================] - 1s 83ms/step - loss: 0.3415 - accuracy: 0.9173 - val_loss: 0.8486 - val_accuracy: 0.6462\n",
            "Epoch 11/50\n",
            "9/9 [==============================] - 1s 82ms/step - loss: 0.2758 - accuracy: 0.9508 - val_loss: 0.7427 - val_accuracy: 0.7385\n",
            "Epoch 12/50\n",
            "9/9 [==============================] - 1s 80ms/step - loss: 0.2363 - accuracy: 0.9586 - val_loss: 0.8744 - val_accuracy: 0.6923\n",
            "Epoch 13/50\n",
            "9/9 [==============================] - 1s 79ms/step - loss: 0.1947 - accuracy: 0.9783 - val_loss: 0.7949 - val_accuracy: 0.7692\n",
            "Epoch 14/50\n",
            "9/9 [==============================] - 1s 77ms/step - loss: 0.2125 - accuracy: 0.9437 - val_loss: 0.9126 - val_accuracy: 0.6769\n",
            "Epoch 15/50\n",
            "9/9 [==============================] - 1s 81ms/step - loss: 0.1609 - accuracy: 0.9513 - val_loss: 0.6964 - val_accuracy: 0.7385\n",
            "Epoch 16/50\n",
            "9/9 [==============================] - 1s 83ms/step - loss: 0.1553 - accuracy: 0.9724 - val_loss: 0.9146 - val_accuracy: 0.6615\n",
            "Epoch 17/50\n",
            "9/9 [==============================] - 1s 80ms/step - loss: 0.1043 - accuracy: 0.9860 - val_loss: 0.7922 - val_accuracy: 0.7077\n",
            "Epoch 18/50\n",
            "9/9 [==============================] - 1s 81ms/step - loss: 0.0811 - accuracy: 0.9979 - val_loss: 0.8402 - val_accuracy: 0.7077\n",
            "Epoch 19/50\n",
            "9/9 [==============================] - 1s 82ms/step - loss: 0.0830 - accuracy: 0.9943 - val_loss: 0.7378 - val_accuracy: 0.7538\n",
            "Epoch 20/50\n",
            "9/9 [==============================] - 1s 81ms/step - loss: 0.0637 - accuracy: 0.9979 - val_loss: 0.8303 - val_accuracy: 0.7385\n",
            "Epoch 21/50\n",
            "9/9 [==============================] - 1s 85ms/step - loss: 0.0729 - accuracy: 0.9922 - val_loss: 0.8593 - val_accuracy: 0.7231\n",
            "Epoch 22/50\n",
            "9/9 [==============================] - 1s 86ms/step - loss: 0.0475 - accuracy: 1.0000 - val_loss: 0.9057 - val_accuracy: 0.7385\n",
            "Epoch 23/50\n",
            "9/9 [==============================] - 1s 85ms/step - loss: 0.0391 - accuracy: 0.9945 - val_loss: 0.9465 - val_accuracy: 0.7231\n",
            "Epoch 24/50\n",
            "9/9 [==============================] - 1s 84ms/step - loss: 0.0420 - accuracy: 1.0000 - val_loss: 0.8775 - val_accuracy: 0.6923\n",
            "Epoch 25/50\n",
            "9/9 [==============================] - 1s 83ms/step - loss: 0.0353 - accuracy: 1.0000 - val_loss: 0.8856 - val_accuracy: 0.6769\n",
            "Epoch 26/50\n",
            "9/9 [==============================] - 1s 84ms/step - loss: 0.0273 - accuracy: 1.0000 - val_loss: 1.0190 - val_accuracy: 0.7077\n",
            "Epoch 27/50\n",
            "9/9 [==============================] - 1s 84ms/step - loss: 0.0232 - accuracy: 1.0000 - val_loss: 0.9668 - val_accuracy: 0.7077\n",
            "Epoch 28/50\n",
            "9/9 [==============================] - 1s 82ms/step - loss: 0.0225 - accuracy: 1.0000 - val_loss: 0.8722 - val_accuracy: 0.7077\n",
            "Epoch 29/50\n",
            "9/9 [==============================] - 1s 86ms/step - loss: 0.0229 - accuracy: 1.0000 - val_loss: 1.0024 - val_accuracy: 0.6769\n",
            "Epoch 30/50\n",
            "9/9 [==============================] - 1s 84ms/step - loss: 0.0169 - accuracy: 1.0000 - val_loss: 1.0116 - val_accuracy: 0.6615\n",
            "Epoch 31/50\n",
            "9/9 [==============================] - 1s 80ms/step - loss: 0.0144 - accuracy: 1.0000 - val_loss: 0.9429 - val_accuracy: 0.6769\n",
            "Epoch 32/50\n",
            "9/9 [==============================] - 1s 83ms/step - loss: 0.0152 - accuracy: 1.0000 - val_loss: 0.9129 - val_accuracy: 0.6923\n",
            "Epoch 33/50\n",
            "9/9 [==============================] - 1s 81ms/step - loss: 0.0164 - accuracy: 0.9954 - val_loss: 0.9480 - val_accuracy: 0.6923\n",
            "Epoch 34/50\n",
            "9/9 [==============================] - 1s 82ms/step - loss: 0.0123 - accuracy: 1.0000 - val_loss: 1.0050 - val_accuracy: 0.7077\n",
            "Epoch 35/50\n",
            "9/9 [==============================] - 1s 80ms/step - loss: 0.0093 - accuracy: 1.0000 - val_loss: 0.9917 - val_accuracy: 0.7077\n",
            "Epoch 36/50\n",
            "9/9 [==============================] - 1s 82ms/step - loss: 0.0122 - accuracy: 1.0000 - val_loss: 0.9976 - val_accuracy: 0.6769\n",
            "Epoch 37/50\n",
            "9/9 [==============================] - 1s 84ms/step - loss: 0.0102 - accuracy: 1.0000 - val_loss: 0.9852 - val_accuracy: 0.6769\n",
            "Epoch 38/50\n",
            "9/9 [==============================] - 1s 79ms/step - loss: 0.0115 - accuracy: 1.0000 - val_loss: 1.0053 - val_accuracy: 0.6769\n",
            "Epoch 39/50\n",
            "9/9 [==============================] - 1s 80ms/step - loss: 0.0114 - accuracy: 1.0000 - val_loss: 1.0134 - val_accuracy: 0.6769\n",
            "Epoch 40/50\n",
            "9/9 [==============================] - 1s 84ms/step - loss: 0.0114 - accuracy: 1.0000 - val_loss: 0.9437 - val_accuracy: 0.7077\n",
            "Epoch 41/50\n",
            "9/9 [==============================] - 1s 86ms/step - loss: 0.0099 - accuracy: 1.0000 - val_loss: 1.0232 - val_accuracy: 0.6923\n",
            "Epoch 42/50\n",
            "9/9 [==============================] - 1s 82ms/step - loss: 0.0064 - accuracy: 1.0000 - val_loss: 1.0482 - val_accuracy: 0.7077\n",
            "Epoch 43/50\n",
            "9/9 [==============================] - 1s 83ms/step - loss: 0.0051 - accuracy: 1.0000 - val_loss: 1.0457 - val_accuracy: 0.7077\n",
            "Epoch 44/50\n",
            "9/9 [==============================] - 1s 80ms/step - loss: 0.0058 - accuracy: 1.0000 - val_loss: 1.0401 - val_accuracy: 0.7231\n",
            "Epoch 45/50\n",
            "9/9 [==============================] - 1s 84ms/step - loss: 0.0053 - accuracy: 1.0000 - val_loss: 1.0593 - val_accuracy: 0.6923\n",
            "Epoch 46/50\n",
            "9/9 [==============================] - 1s 81ms/step - loss: 0.0067 - accuracy: 1.0000 - val_loss: 1.0752 - val_accuracy: 0.6923\n",
            "Epoch 47/50\n",
            "9/9 [==============================] - 1s 79ms/step - loss: 0.0067 - accuracy: 1.0000 - val_loss: 1.0698 - val_accuracy: 0.7077\n",
            "Epoch 48/50\n",
            "9/9 [==============================] - 1s 85ms/step - loss: 0.0092 - accuracy: 1.0000 - val_loss: 1.1121 - val_accuracy: 0.6769\n",
            "Epoch 49/50\n",
            "9/9 [==============================] - 1s 80ms/step - loss: 0.0064 - accuracy: 1.0000 - val_loss: 1.0380 - val_accuracy: 0.7077\n",
            "Epoch 50/50\n",
            "9/9 [==============================] - 1s 85ms/step - loss: 0.0052 - accuracy: 1.0000 - val_loss: 1.0082 - val_accuracy: 0.7385\n"
          ],
          "name": "stdout"
        },
        {
          "output_type": "execute_result",
          "data": {
            "text/plain": [
              "<tensorflow.python.keras.callbacks.History at 0x7f6a0570f090>"
            ]
          },
          "metadata": {
            "tags": []
          },
          "execution_count": 27
        }
      ]
    },
    {
      "cell_type": "code",
      "metadata": {
        "id": "41UwN2vhgrMh"
      },
      "source": [
        "lstm = Sequential()\n",
        "lstm.add(LSTM(200, activation='relu', return_sequences=True, input_shape=(4, 8192)))\n",
        "lstm.add(LSTM(25, activation='relu'))\n",
        "lstm.add(Dense(20, activation='relu'))\n",
        "#lstm.add(Dense(10, activation='relu'))\n",
        "lstm.add(Dense(7))\n",
        "lstm.compile(optimizer='adam', loss='mse')\n",
        "\n",
        "\n",
        "lstm.compile(optimizer='adam', loss='mse',metrics=['accuracy'])"
      ],
      "execution_count": null,
      "outputs": []
    },
    {
      "cell_type": "code",
      "metadata": {
        "colab": {
          "base_uri": "https://localhost:8080/"
        },
        "id": "jvE_DK-shH1S",
        "outputId": "7534f375-b9f5-40f5-870e-bf4a23cf7c5d"
      },
      "source": [
        "lstm.summary()"
      ],
      "execution_count": null,
      "outputs": [
        {
          "output_type": "stream",
          "text": [
            "Model: \"sequential_1\"\n",
            "_________________________________________________________________\n",
            "Layer (type)                 Output Shape              Param #   \n",
            "=================================================================\n",
            "lstm_1 (LSTM)                (None, 4, 200)            6714400   \n",
            "_________________________________________________________________\n",
            "lstm_2 (LSTM)                (None, 25)                22600     \n",
            "_________________________________________________________________\n",
            "dense_1 (Dense)              (None, 20)                520       \n",
            "_________________________________________________________________\n",
            "dense_2 (Dense)              (None, 7)                 147       \n",
            "=================================================================\n",
            "Total params: 6,737,667\n",
            "Trainable params: 6,737,667\n",
            "Non-trainable params: 0\n",
            "_________________________________________________________________\n"
          ],
          "name": "stdout"
        }
      ]
    },
    {
      "cell_type": "code",
      "metadata": {
        "colab": {
          "base_uri": "https://localhost:8080/"
        },
        "id": "hCZPEsfPg-9z",
        "outputId": "a9184540-71f2-40fa-9454-4d3e66b84ad4"
      },
      "source": [
        "lstm.fit(trainf, btrain, validation_data=(testf, ctest), epochs=50)"
      ],
      "execution_count": null,
      "outputs": [
        {
          "output_type": "stream",
          "text": [
            "Epoch 1/50\n",
            "9/9 [==============================] - 4s 204ms/step - loss: 0.1856 - accuracy: 0.1790 - val_loss: 0.1331 - val_accuracy: 0.2615\n",
            "Epoch 2/50\n",
            "9/9 [==============================] - 1s 152ms/step - loss: 0.1302 - accuracy: 0.2925 - val_loss: 0.1298 - val_accuracy: 0.3231\n",
            "Epoch 3/50\n",
            "9/9 [==============================] - 1s 149ms/step - loss: 0.1177 - accuracy: 0.3075 - val_loss: 0.1225 - val_accuracy: 0.2615\n",
            "Epoch 4/50\n",
            "9/9 [==============================] - 1s 153ms/step - loss: 0.1139 - accuracy: 0.2846 - val_loss: 0.1177 - val_accuracy: 0.2615\n",
            "Epoch 5/50\n",
            "9/9 [==============================] - 1s 150ms/step - loss: 0.1119 - accuracy: 0.2507 - val_loss: 0.1152 - val_accuracy: 0.3077\n",
            "Epoch 6/50\n",
            "9/9 [==============================] - 1s 151ms/step - loss: 0.1064 - accuracy: 0.3486 - val_loss: 0.1168 - val_accuracy: 0.4000\n",
            "Epoch 7/50\n",
            "9/9 [==============================] - 1s 153ms/step - loss: 0.1070 - accuracy: 0.4026 - val_loss: 0.1143 - val_accuracy: 0.4000\n",
            "Epoch 8/50\n",
            "9/9 [==============================] - 1s 148ms/step - loss: 0.1084 - accuracy: 0.3869 - val_loss: 0.1124 - val_accuracy: 0.4000\n",
            "Epoch 9/50\n",
            "9/9 [==============================] - 1s 151ms/step - loss: 0.1050 - accuracy: 0.4428 - val_loss: 0.1076 - val_accuracy: 0.3846\n",
            "Epoch 10/50\n",
            "9/9 [==============================] - 1s 150ms/step - loss: 0.1004 - accuracy: 0.4564 - val_loss: 0.1077 - val_accuracy: 0.3692\n",
            "Epoch 11/50\n",
            "9/9 [==============================] - 1s 149ms/step - loss: 0.1011 - accuracy: 0.4565 - val_loss: 0.1055 - val_accuracy: 0.4154\n",
            "Epoch 12/50\n",
            "9/9 [==============================] - 1s 152ms/step - loss: 0.1024 - accuracy: 0.4601 - val_loss: 0.1134 - val_accuracy: 0.3846\n",
            "Epoch 13/50\n",
            "9/9 [==============================] - 1s 150ms/step - loss: 0.1028 - accuracy: 0.4512 - val_loss: 0.1055 - val_accuracy: 0.4000\n",
            "Epoch 14/50\n",
            "9/9 [==============================] - 1s 147ms/step - loss: 0.0976 - accuracy: 0.4379 - val_loss: 0.1048 - val_accuracy: 0.4000\n",
            "Epoch 15/50\n",
            "9/9 [==============================] - 1s 152ms/step - loss: 0.0951 - accuracy: 0.4493 - val_loss: 0.1048 - val_accuracy: 0.3846\n",
            "Epoch 16/50\n",
            "9/9 [==============================] - 1s 149ms/step - loss: 0.0906 - accuracy: 0.4633 - val_loss: 0.1035 - val_accuracy: 0.3846\n",
            "Epoch 17/50\n",
            "9/9 [==============================] - 1s 151ms/step - loss: 0.0919 - accuracy: 0.4544 - val_loss: 0.1023 - val_accuracy: 0.4000\n",
            "Epoch 18/50\n",
            "9/9 [==============================] - 1s 151ms/step - loss: 0.0925 - accuracy: 0.4701 - val_loss: 0.1017 - val_accuracy: 0.4000\n",
            "Epoch 19/50\n",
            "9/9 [==============================] - 1s 154ms/step - loss: 0.0887 - accuracy: 0.4915 - val_loss: 0.1023 - val_accuracy: 0.3846\n",
            "Epoch 20/50\n",
            "9/9 [==============================] - 1s 148ms/step - loss: 0.0927 - accuracy: 0.4443 - val_loss: 0.1019 - val_accuracy: 0.3692\n",
            "Epoch 21/50\n",
            "9/9 [==============================] - 1s 151ms/step - loss: 0.0914 - accuracy: 0.4384 - val_loss: 0.1020 - val_accuracy: 0.3846\n",
            "Epoch 22/50\n",
            "9/9 [==============================] - 1s 153ms/step - loss: 0.0909 - accuracy: 0.4755 - val_loss: 0.1061 - val_accuracy: 0.3692\n",
            "Epoch 23/50\n",
            "9/9 [==============================] - 1s 152ms/step - loss: 0.0933 - accuracy: 0.4545 - val_loss: 0.1015 - val_accuracy: 0.4000\n",
            "Epoch 24/50\n",
            "9/9 [==============================] - 1s 152ms/step - loss: 0.0892 - accuracy: 0.4428 - val_loss: 0.1013 - val_accuracy: 0.3692\n",
            "Epoch 25/50\n",
            "9/9 [==============================] - 1s 153ms/step - loss: 0.0900 - accuracy: 0.4561 - val_loss: 0.1006 - val_accuracy: 0.3692\n",
            "Epoch 26/50\n",
            "9/9 [==============================] - 1s 152ms/step - loss: 0.0852 - accuracy: 0.4770 - val_loss: 0.1001 - val_accuracy: 0.4000\n",
            "Epoch 27/50\n",
            "9/9 [==============================] - 1s 152ms/step - loss: 0.0878 - accuracy: 0.4679 - val_loss: 0.1003 - val_accuracy: 0.4000\n",
            "Epoch 28/50\n",
            "9/9 [==============================] - 1s 151ms/step - loss: 0.0822 - accuracy: 0.4625 - val_loss: 0.1009 - val_accuracy: 0.3846\n",
            "Epoch 29/50\n",
            "9/9 [==============================] - 1s 152ms/step - loss: 0.0891 - accuracy: 0.4085 - val_loss: 0.0999 - val_accuracy: 0.4000\n",
            "Epoch 30/50\n",
            "9/9 [==============================] - 1s 152ms/step - loss: 0.0835 - accuracy: 0.4658 - val_loss: 0.0995 - val_accuracy: 0.4000\n",
            "Epoch 31/50\n",
            "9/9 [==============================] - 1s 149ms/step - loss: 0.0849 - accuracy: 0.4781 - val_loss: 0.0995 - val_accuracy: 0.4000\n",
            "Epoch 32/50\n",
            "9/9 [==============================] - 1s 149ms/step - loss: 0.0797 - accuracy: 0.4936 - val_loss: 0.1000 - val_accuracy: 0.4000\n",
            "Epoch 33/50\n",
            "9/9 [==============================] - 1s 154ms/step - loss: 0.0860 - accuracy: 0.4663 - val_loss: 0.1000 - val_accuracy: 0.3846\n",
            "Epoch 34/50\n",
            "9/9 [==============================] - 1s 151ms/step - loss: 0.0853 - accuracy: 0.4474 - val_loss: 0.0996 - val_accuracy: 0.3846\n",
            "Epoch 35/50\n",
            "9/9 [==============================] - 1s 152ms/step - loss: 0.0849 - accuracy: 0.4431 - val_loss: 0.0985 - val_accuracy: 0.3846\n",
            "Epoch 36/50\n",
            "9/9 [==============================] - 1s 149ms/step - loss: 0.0829 - accuracy: 0.4442 - val_loss: 0.0994 - val_accuracy: 0.3846\n",
            "Epoch 37/50\n",
            "9/9 [==============================] - 1s 149ms/step - loss: 0.0792 - accuracy: 0.4762 - val_loss: 0.0984 - val_accuracy: 0.4154\n",
            "Epoch 38/50\n",
            "9/9 [==============================] - 1s 153ms/step - loss: 0.0783 - accuracy: 0.4861 - val_loss: 0.0995 - val_accuracy: 0.4000\n",
            "Epoch 39/50\n",
            "9/9 [==============================] - 1s 151ms/step - loss: 0.0808 - accuracy: 0.5075 - val_loss: 0.0999 - val_accuracy: 0.4000\n",
            "Epoch 40/50\n",
            "9/9 [==============================] - 1s 150ms/step - loss: 0.0830 - accuracy: 0.5168 - val_loss: 0.0993 - val_accuracy: 0.4154\n",
            "Epoch 41/50\n",
            "9/9 [==============================] - 1s 158ms/step - loss: 0.0787 - accuracy: 0.5733 - val_loss: 0.0992 - val_accuracy: 0.4000\n",
            "Epoch 42/50\n",
            "9/9 [==============================] - 1s 153ms/step - loss: 0.0771 - accuracy: 0.5159 - val_loss: 0.0987 - val_accuracy: 0.4154\n",
            "Epoch 43/50\n",
            "9/9 [==============================] - 1s 150ms/step - loss: 0.0840 - accuracy: 0.5743 - val_loss: 0.0970 - val_accuracy: 0.4154\n",
            "Epoch 44/50\n",
            "9/9 [==============================] - 1s 152ms/step - loss: 0.0781 - accuracy: 0.5906 - val_loss: 0.0991 - val_accuracy: 0.3846\n",
            "Epoch 45/50\n",
            "9/9 [==============================] - 1s 150ms/step - loss: 0.0729 - accuracy: 0.6426 - val_loss: 0.0986 - val_accuracy: 0.4154\n",
            "Epoch 46/50\n",
            "9/9 [==============================] - 1s 151ms/step - loss: 0.0765 - accuracy: 0.6252 - val_loss: 0.0974 - val_accuracy: 0.4154\n",
            "Epoch 47/50\n",
            "9/9 [==============================] - 1s 151ms/step - loss: 0.0789 - accuracy: 0.6235 - val_loss: 0.0969 - val_accuracy: 0.4308\n",
            "Epoch 48/50\n",
            "9/9 [==============================] - 1s 151ms/step - loss: 0.0744 - accuracy: 0.6420 - val_loss: 0.0957 - val_accuracy: 0.4615\n",
            "Epoch 49/50\n",
            "9/9 [==============================] - 1s 150ms/step - loss: 0.0730 - accuracy: 0.6212 - val_loss: 0.0952 - val_accuracy: 0.4308\n",
            "Epoch 50/50\n",
            "9/9 [==============================] - 1s 150ms/step - loss: 0.0736 - accuracy: 0.6418 - val_loss: 0.0952 - val_accuracy: 0.4462\n"
          ],
          "name": "stdout"
        },
        {
          "output_type": "execute_result",
          "data": {
            "text/plain": [
              "<tensorflow.python.keras.callbacks.History at 0x7f376dd60550>"
            ]
          },
          "metadata": {
            "tags": []
          },
          "execution_count": 25
        }
      ]
    },
    {
      "cell_type": "code",
      "metadata": {
        "id": "BI-9hhDZeGpp"
      },
      "source": [
        "from keras.layers import LSTM\n",
        "n_timesteps=4\n",
        "n_features=8192\n",
        "n_outputs=7\n",
        "model = Sequential()\n",
        "\n",
        "#model.add(Dropout(0.5))\n",
        "#model.add(LSTM(100))\n",
        "model.add(LSTM(200, input_shape=( n_timesteps,n_features),  return_sequences=True))\n",
        "#model.add(Dropout(0.5))\n",
        "model.add(Flatten())\n",
        "#model.add(Dense(3200, activation='relu'))\n",
        "model.add(Dense(7, activation='softmax'))\n",
        "\n",
        "model.compile(loss='categorical_crossentropy', optimizer='adam', metrics=['accuracy'])"
      ],
      "execution_count": null,
      "outputs": []
    },
    {
      "cell_type": "code",
      "metadata": {
        "colab": {
          "base_uri": "https://localhost:8080/"
        },
        "id": "feGoohB4eKRn",
        "outputId": "f7ad2eb4-aadb-497e-e073-bc8208a5c81b"
      },
      "source": [
        "model.summary()"
      ],
      "execution_count": null,
      "outputs": [
        {
          "output_type": "stream",
          "text": [
            "Model: \"sequential_3\"\n",
            "_________________________________________________________________\n",
            "Layer (type)                 Output Shape              Param #   \n",
            "=================================================================\n",
            "lstm_3 (LSTM)                (None, 4, 200)            6714400   \n",
            "_________________________________________________________________\n",
            "flatten_3 (Flatten)          (None, 800)               0         \n",
            "_________________________________________________________________\n",
            "dense_3 (Dense)              (None, 7)                 5607      \n",
            "=================================================================\n",
            "Total params: 6,720,007\n",
            "Trainable params: 6,720,007\n",
            "Non-trainable params: 0\n",
            "_________________________________________________________________\n"
          ],
          "name": "stdout"
        }
      ]
    },
    {
      "cell_type": "code",
      "metadata": {
        "colab": {
          "base_uri": "https://localhost:8080/"
        },
        "id": "2oDjLUzgeOdF",
        "outputId": "31cb6add-42a5-4bb7-9fcd-f44face9e141"
      },
      "source": [
        "model.fit(trainf, btrain, validation_data=(testf, ctest), epochs=50)"
      ],
      "execution_count": null,
      "outputs": [
        {
          "output_type": "stream",
          "text": [
            "Epoch 1/50\n",
            "9/9 [==============================] - 4s 244ms/step - loss: 1.9017 - accuracy: 0.3429 - val_loss: 1.3494 - val_accuracy: 0.5538\n",
            "Epoch 2/50\n",
            "9/9 [==============================] - 1s 150ms/step - loss: 0.9991 - accuracy: 0.6141 - val_loss: 1.1982 - val_accuracy: 0.5538\n",
            "Epoch 3/50\n",
            "9/9 [==============================] - 1s 147ms/step - loss: 0.8009 - accuracy: 0.7328 - val_loss: 1.1715 - val_accuracy: 0.6769\n",
            "Epoch 4/50\n",
            "9/9 [==============================] - 1s 147ms/step - loss: 0.5675 - accuracy: 0.7967 - val_loss: 1.0721 - val_accuracy: 0.6000\n",
            "Epoch 5/50\n",
            "9/9 [==============================] - 1s 144ms/step - loss: 0.4145 - accuracy: 0.8766 - val_loss: 0.8592 - val_accuracy: 0.6923\n",
            "Epoch 6/50\n",
            "9/9 [==============================] - 1s 150ms/step - loss: 0.2258 - accuracy: 0.9549 - val_loss: 0.8277 - val_accuracy: 0.6923\n",
            "Epoch 7/50\n",
            "9/9 [==============================] - 1s 144ms/step - loss: 0.1400 - accuracy: 0.9727 - val_loss: 1.2346 - val_accuracy: 0.5538\n",
            "Epoch 8/50\n",
            "9/9 [==============================] - 1s 150ms/step - loss: 0.2421 - accuracy: 0.9251 - val_loss: 1.0407 - val_accuracy: 0.6769\n",
            "Epoch 9/50\n",
            "9/9 [==============================] - 1s 150ms/step - loss: 0.1318 - accuracy: 0.9849 - val_loss: 0.8125 - val_accuracy: 0.7077\n",
            "Epoch 10/50\n",
            "9/9 [==============================] - 1s 145ms/step - loss: 0.0819 - accuracy: 0.9965 - val_loss: 0.9178 - val_accuracy: 0.7385\n",
            "Epoch 11/50\n",
            "9/9 [==============================] - 1s 147ms/step - loss: 0.0561 - accuracy: 0.9912 - val_loss: 0.8194 - val_accuracy: 0.7385\n",
            "Epoch 12/50\n",
            "9/9 [==============================] - 1s 148ms/step - loss: 0.0379 - accuracy: 0.9972 - val_loss: 0.8553 - val_accuracy: 0.7231\n",
            "Epoch 13/50\n",
            "9/9 [==============================] - 1s 145ms/step - loss: 0.0232 - accuracy: 1.0000 - val_loss: 0.9576 - val_accuracy: 0.7231\n",
            "Epoch 14/50\n",
            "9/9 [==============================] - 1s 146ms/step - loss: 0.0172 - accuracy: 0.9984 - val_loss: 0.9429 - val_accuracy: 0.7385\n",
            "Epoch 15/50\n",
            "9/9 [==============================] - 1s 148ms/step - loss: 0.0112 - accuracy: 1.0000 - val_loss: 0.9356 - val_accuracy: 0.7385\n",
            "Epoch 16/50\n",
            "9/9 [==============================] - 1s 150ms/step - loss: 0.0085 - accuracy: 1.0000 - val_loss: 0.9255 - val_accuracy: 0.7077\n",
            "Epoch 17/50\n",
            "9/9 [==============================] - 1s 145ms/step - loss: 0.0074 - accuracy: 1.0000 - val_loss: 0.9469 - val_accuracy: 0.7077\n",
            "Epoch 18/50\n",
            "9/9 [==============================] - 1s 143ms/step - loss: 0.0065 - accuracy: 1.0000 - val_loss: 0.9694 - val_accuracy: 0.7385\n",
            "Epoch 19/50\n",
            "9/9 [==============================] - 1s 144ms/step - loss: 0.0056 - accuracy: 1.0000 - val_loss: 0.9644 - val_accuracy: 0.7231\n",
            "Epoch 20/50\n",
            "9/9 [==============================] - 1s 144ms/step - loss: 0.0041 - accuracy: 1.0000 - val_loss: 0.9736 - val_accuracy: 0.7385\n",
            "Epoch 21/50\n",
            "9/9 [==============================] - 1s 142ms/step - loss: 0.0035 - accuracy: 1.0000 - val_loss: 0.9868 - val_accuracy: 0.7231\n",
            "Epoch 22/50\n",
            "9/9 [==============================] - 1s 144ms/step - loss: 0.0034 - accuracy: 1.0000 - val_loss: 0.9775 - val_accuracy: 0.7385\n",
            "Epoch 23/50\n",
            "9/9 [==============================] - 1s 143ms/step - loss: 0.0031 - accuracy: 1.0000 - val_loss: 0.9741 - val_accuracy: 0.7385\n",
            "Epoch 24/50\n",
            "9/9 [==============================] - 1s 146ms/step - loss: 0.0031 - accuracy: 1.0000 - val_loss: 1.0199 - val_accuracy: 0.7231\n",
            "Epoch 25/50\n",
            "9/9 [==============================] - 1s 144ms/step - loss: 0.0027 - accuracy: 1.0000 - val_loss: 1.0206 - val_accuracy: 0.7231\n",
            "Epoch 26/50\n",
            "9/9 [==============================] - 1s 143ms/step - loss: 0.0025 - accuracy: 1.0000 - val_loss: 1.0100 - val_accuracy: 0.7231\n",
            "Epoch 27/50\n",
            "9/9 [==============================] - 1s 145ms/step - loss: 0.0022 - accuracy: 1.0000 - val_loss: 1.0149 - val_accuracy: 0.7231\n",
            "Epoch 28/50\n",
            "9/9 [==============================] - 1s 142ms/step - loss: 0.0020 - accuracy: 1.0000 - val_loss: 1.0375 - val_accuracy: 0.7077\n",
            "Epoch 29/50\n",
            "9/9 [==============================] - 1s 143ms/step - loss: 0.0019 - accuracy: 1.0000 - val_loss: 1.0501 - val_accuracy: 0.7231\n",
            "Epoch 30/50\n",
            "9/9 [==============================] - 1s 147ms/step - loss: 0.0019 - accuracy: 1.0000 - val_loss: 1.0501 - val_accuracy: 0.7231\n",
            "Epoch 31/50\n",
            "9/9 [==============================] - 1s 150ms/step - loss: 0.0016 - accuracy: 1.0000 - val_loss: 1.0446 - val_accuracy: 0.7231\n",
            "Epoch 32/50\n",
            "9/9 [==============================] - 1s 146ms/step - loss: 0.0017 - accuracy: 1.0000 - val_loss: 1.0441 - val_accuracy: 0.7385\n",
            "Epoch 33/50\n",
            "9/9 [==============================] - 1s 147ms/step - loss: 0.0015 - accuracy: 1.0000 - val_loss: 1.0545 - val_accuracy: 0.7231\n",
            "Epoch 34/50\n",
            "9/9 [==============================] - 1s 144ms/step - loss: 0.0015 - accuracy: 1.0000 - val_loss: 1.0575 - val_accuracy: 0.7385\n",
            "Epoch 35/50\n",
            "9/9 [==============================] - 1s 146ms/step - loss: 0.0015 - accuracy: 1.0000 - val_loss: 1.0538 - val_accuracy: 0.7231\n",
            "Epoch 36/50\n",
            "9/9 [==============================] - 1s 147ms/step - loss: 0.0014 - accuracy: 1.0000 - val_loss: 1.0680 - val_accuracy: 0.7231\n",
            "Epoch 37/50\n",
            "9/9 [==============================] - 1s 146ms/step - loss: 0.0011 - accuracy: 1.0000 - val_loss: 1.0783 - val_accuracy: 0.7385\n",
            "Epoch 38/50\n",
            "9/9 [==============================] - 1s 150ms/step - loss: 0.0011 - accuracy: 1.0000 - val_loss: 1.0852 - val_accuracy: 0.7231\n",
            "Epoch 39/50\n",
            "9/9 [==============================] - 1s 152ms/step - loss: 0.0011 - accuracy: 1.0000 - val_loss: 1.0909 - val_accuracy: 0.7231\n",
            "Epoch 40/50\n",
            "9/9 [==============================] - 1s 144ms/step - loss: 9.8574e-04 - accuracy: 1.0000 - val_loss: 1.0930 - val_accuracy: 0.7231\n",
            "Epoch 41/50\n",
            "9/9 [==============================] - 1s 147ms/step - loss: 0.0010 - accuracy: 1.0000 - val_loss: 1.1008 - val_accuracy: 0.7231\n",
            "Epoch 42/50\n",
            "9/9 [==============================] - 1s 147ms/step - loss: 9.5573e-04 - accuracy: 1.0000 - val_loss: 1.1008 - val_accuracy: 0.7231\n",
            "Epoch 43/50\n",
            "9/9 [==============================] - 1s 142ms/step - loss: 9.9903e-04 - accuracy: 1.0000 - val_loss: 1.1071 - val_accuracy: 0.7231\n",
            "Epoch 44/50\n",
            "9/9 [==============================] - 1s 147ms/step - loss: 8.7568e-04 - accuracy: 1.0000 - val_loss: 1.1193 - val_accuracy: 0.7231\n",
            "Epoch 45/50\n",
            "9/9 [==============================] - 1s 159ms/step - loss: 8.7542e-04 - accuracy: 1.0000 - val_loss: 1.1298 - val_accuracy: 0.7231\n",
            "Epoch 46/50\n",
            "9/9 [==============================] - 1s 145ms/step - loss: 8.1939e-04 - accuracy: 1.0000 - val_loss: 1.1408 - val_accuracy: 0.7231\n",
            "Epoch 47/50\n",
            "9/9 [==============================] - 1s 145ms/step - loss: 8.2050e-04 - accuracy: 1.0000 - val_loss: 1.1427 - val_accuracy: 0.7231\n",
            "Epoch 48/50\n",
            "9/9 [==============================] - 1s 142ms/step - loss: 6.5849e-04 - accuracy: 1.0000 - val_loss: 1.1459 - val_accuracy: 0.7231\n",
            "Epoch 49/50\n",
            "9/9 [==============================] - 1s 142ms/step - loss: 6.8128e-04 - accuracy: 1.0000 - val_loss: 1.1517 - val_accuracy: 0.7231\n",
            "Epoch 50/50\n",
            "9/9 [==============================] - 1s 147ms/step - loss: 6.5131e-04 - accuracy: 1.0000 - val_loss: 1.1581 - val_accuracy: 0.7231\n"
          ],
          "name": "stdout"
        },
        {
          "output_type": "execute_result",
          "data": {
            "text/plain": [
              "<tensorflow.python.keras.callbacks.History at 0x7f6a07d1a450>"
            ]
          },
          "metadata": {
            "tags": []
          },
          "execution_count": 25
        }
      ]
    },
    {
      "cell_type": "code",
      "metadata": {
        "id": "l5h9qSwfkUeB"
      },
      "source": [
        "from keras.layers import LSTM\n",
        "n_timesteps=4\n",
        "n_features=8192\n",
        "n_outputs=7\n",
        "model = Sequential()\n",
        "\n",
        "#model.add(Dropout(0.5))\n",
        "#model.add(LSTM(100))\n",
        "model.add(LSTM(20, input_shape=( n_timesteps,n_features),  return_sequences=True))\n",
        "#model.add(Dropout(0.5))\n",
        "model.add(Flatten())\n",
        "#model.add(Dense(3200, activation='relu'))\n",
        "model.add(Dense(7, activation='softmax'))\n",
        "\n",
        "model.compile(loss='categorical_crossentropy', optimizer='adam', metrics=['accuracy'])"
      ],
      "execution_count": null,
      "outputs": []
    },
    {
      "cell_type": "code",
      "metadata": {
        "colab": {
          "base_uri": "https://localhost:8080/"
        },
        "id": "dfaCCp8nkabP",
        "outputId": "240bb89d-4249-4952-a46f-8676b76980c6"
      },
      "source": [
        "model.fit(trainf, btrain, validation_data=(testf, ctest), epochs=50)"
      ],
      "execution_count": null,
      "outputs": [
        {
          "output_type": "stream",
          "text": [
            "Epoch 1/50\n",
            "9/9 [==============================] - 3s 88ms/step - loss: 1.8870 - accuracy: 0.2666 - val_loss: 1.6615 - val_accuracy: 0.4769\n",
            "Epoch 2/50\n",
            "9/9 [==============================] - 0s 29ms/step - loss: 1.5193 - accuracy: 0.5667 - val_loss: 1.3654 - val_accuracy: 0.5538\n",
            "Epoch 3/50\n",
            "9/9 [==============================] - 0s 29ms/step - loss: 1.1692 - accuracy: 0.6247 - val_loss: 1.3639 - val_accuracy: 0.5385\n",
            "Epoch 4/50\n",
            "9/9 [==============================] - 0s 27ms/step - loss: 0.9390 - accuracy: 0.6982 - val_loss: 1.1072 - val_accuracy: 0.5385\n",
            "Epoch 5/50\n",
            "9/9 [==============================] - 0s 28ms/step - loss: 0.7295 - accuracy: 0.7958 - val_loss: 1.1505 - val_accuracy: 0.6154\n",
            "Epoch 6/50\n",
            "9/9 [==============================] - 0s 31ms/step - loss: 0.7825 - accuracy: 0.7219 - val_loss: 1.1485 - val_accuracy: 0.5846\n",
            "Epoch 7/50\n",
            "9/9 [==============================] - 0s 30ms/step - loss: 0.6518 - accuracy: 0.8638 - val_loss: 1.0810 - val_accuracy: 0.6308\n",
            "Epoch 8/50\n",
            "9/9 [==============================] - 0s 30ms/step - loss: 0.4918 - accuracy: 0.8900 - val_loss: 1.0672 - val_accuracy: 0.5692\n",
            "Epoch 9/50\n",
            "9/9 [==============================] - 0s 29ms/step - loss: 0.3899 - accuracy: 0.9350 - val_loss: 1.0051 - val_accuracy: 0.5385\n",
            "Epoch 10/50\n",
            "9/9 [==============================] - 0s 27ms/step - loss: 0.3944 - accuracy: 0.9408 - val_loss: 0.9504 - val_accuracy: 0.6615\n",
            "Epoch 11/50\n",
            "9/9 [==============================] - 0s 29ms/step - loss: 0.3141 - accuracy: 0.9638 - val_loss: 0.9308 - val_accuracy: 0.6462\n",
            "Epoch 12/50\n",
            "9/9 [==============================] - 0s 28ms/step - loss: 0.2437 - accuracy: 0.9894 - val_loss: 0.9119 - val_accuracy: 0.6615\n",
            "Epoch 13/50\n",
            "9/9 [==============================] - 0s 29ms/step - loss: 0.2108 - accuracy: 0.9906 - val_loss: 0.9490 - val_accuracy: 0.6769\n",
            "Epoch 14/50\n",
            "9/9 [==============================] - 0s 29ms/step - loss: 0.1952 - accuracy: 0.9922 - val_loss: 0.8768 - val_accuracy: 0.6769\n",
            "Epoch 15/50\n",
            "9/9 [==============================] - 0s 29ms/step - loss: 0.1817 - accuracy: 0.9954 - val_loss: 0.9235 - val_accuracy: 0.6615\n",
            "Epoch 16/50\n",
            "9/9 [==============================] - 0s 29ms/step - loss: 0.1647 - accuracy: 0.9965 - val_loss: 0.8938 - val_accuracy: 0.7077\n",
            "Epoch 17/50\n",
            "9/9 [==============================] - 0s 28ms/step - loss: 0.1382 - accuracy: 0.9979 - val_loss: 0.9256 - val_accuracy: 0.6462\n",
            "Epoch 18/50\n",
            "9/9 [==============================] - 0s 28ms/step - loss: 0.1297 - accuracy: 1.0000 - val_loss: 0.8863 - val_accuracy: 0.6615\n",
            "Epoch 19/50\n",
            "9/9 [==============================] - 0s 30ms/step - loss: 0.1039 - accuracy: 1.0000 - val_loss: 0.9588 - val_accuracy: 0.6615\n",
            "Epoch 20/50\n",
            "9/9 [==============================] - 0s 29ms/step - loss: 0.1077 - accuracy: 1.0000 - val_loss: 0.9149 - val_accuracy: 0.6769\n",
            "Epoch 21/50\n",
            "9/9 [==============================] - 0s 31ms/step - loss: 0.0947 - accuracy: 1.0000 - val_loss: 0.9417 - val_accuracy: 0.7077\n",
            "Epoch 22/50\n",
            "9/9 [==============================] - 0s 29ms/step - loss: 0.1119 - accuracy: 0.9939 - val_loss: 0.9711 - val_accuracy: 0.6615\n",
            "Epoch 23/50\n",
            "9/9 [==============================] - 0s 30ms/step - loss: 0.0963 - accuracy: 1.0000 - val_loss: 0.9297 - val_accuracy: 0.7231\n",
            "Epoch 24/50\n",
            "9/9 [==============================] - 0s 30ms/step - loss: 0.0876 - accuracy: 1.0000 - val_loss: 0.9229 - val_accuracy: 0.7385\n",
            "Epoch 25/50\n",
            "9/9 [==============================] - 0s 31ms/step - loss: 0.0597 - accuracy: 1.0000 - val_loss: 0.9634 - val_accuracy: 0.6923\n",
            "Epoch 26/50\n",
            "9/9 [==============================] - 0s 29ms/step - loss: 0.0568 - accuracy: 1.0000 - val_loss: 0.9942 - val_accuracy: 0.7077\n",
            "Epoch 27/50\n",
            "9/9 [==============================] - 0s 29ms/step - loss: 0.0514 - accuracy: 1.0000 - val_loss: 0.9274 - val_accuracy: 0.6923\n",
            "Epoch 28/50\n",
            "9/9 [==============================] - 0s 30ms/step - loss: 0.0501 - accuracy: 1.0000 - val_loss: 0.9604 - val_accuracy: 0.7077\n",
            "Epoch 29/50\n",
            "9/9 [==============================] - 0s 28ms/step - loss: 0.0392 - accuracy: 1.0000 - val_loss: 0.9806 - val_accuracy: 0.6923\n",
            "Epoch 30/50\n",
            "9/9 [==============================] - 0s 30ms/step - loss: 0.0418 - accuracy: 1.0000 - val_loss: 0.9975 - val_accuracy: 0.6923\n",
            "Epoch 31/50\n",
            "9/9 [==============================] - 0s 28ms/step - loss: 0.0405 - accuracy: 1.0000 - val_loss: 1.0151 - val_accuracy: 0.7077\n",
            "Epoch 32/50\n",
            "9/9 [==============================] - 0s 29ms/step - loss: 0.0332 - accuracy: 1.0000 - val_loss: 0.9896 - val_accuracy: 0.7231\n",
            "Epoch 33/50\n",
            "9/9 [==============================] - 0s 28ms/step - loss: 0.0289 - accuracy: 1.0000 - val_loss: 0.9871 - val_accuracy: 0.6923\n",
            "Epoch 34/50\n",
            "9/9 [==============================] - 0s 30ms/step - loss: 0.0289 - accuracy: 1.0000 - val_loss: 1.0121 - val_accuracy: 0.7231\n",
            "Epoch 35/50\n",
            "9/9 [==============================] - 0s 28ms/step - loss: 0.0253 - accuracy: 1.0000 - val_loss: 0.9702 - val_accuracy: 0.7077\n",
            "Epoch 36/50\n",
            "9/9 [==============================] - 0s 27ms/step - loss: 0.0247 - accuracy: 1.0000 - val_loss: 0.9887 - val_accuracy: 0.6923\n",
            "Epoch 37/50\n",
            "9/9 [==============================] - 0s 29ms/step - loss: 0.0251 - accuracy: 1.0000 - val_loss: 1.0018 - val_accuracy: 0.6923\n",
            "Epoch 38/50\n",
            "9/9 [==============================] - 0s 28ms/step - loss: 0.0222 - accuracy: 1.0000 - val_loss: 1.0088 - val_accuracy: 0.6923\n",
            "Epoch 39/50\n",
            "9/9 [==============================] - 0s 28ms/step - loss: 0.0225 - accuracy: 1.0000 - val_loss: 0.9898 - val_accuracy: 0.7231\n",
            "Epoch 40/50\n",
            "9/9 [==============================] - 0s 30ms/step - loss: 0.0213 - accuracy: 1.0000 - val_loss: 1.0140 - val_accuracy: 0.7231\n",
            "Epoch 41/50\n",
            "9/9 [==============================] - 0s 29ms/step - loss: 0.0215 - accuracy: 0.9988 - val_loss: 0.9885 - val_accuracy: 0.7231\n",
            "Epoch 42/50\n",
            "9/9 [==============================] - 0s 28ms/step - loss: 0.0237 - accuracy: 1.0000 - val_loss: 1.0309 - val_accuracy: 0.7231\n",
            "Epoch 43/50\n",
            "9/9 [==============================] - 0s 29ms/step - loss: 0.0209 - accuracy: 1.0000 - val_loss: 1.1200 - val_accuracy: 0.7231\n",
            "Epoch 44/50\n",
            "9/9 [==============================] - 0s 30ms/step - loss: 0.0190 - accuracy: 1.0000 - val_loss: 1.0154 - val_accuracy: 0.6923\n",
            "Epoch 45/50\n",
            "9/9 [==============================] - 0s 28ms/step - loss: 0.0187 - accuracy: 1.0000 - val_loss: 1.0023 - val_accuracy: 0.7077\n",
            "Epoch 46/50\n",
            "9/9 [==============================] - 0s 35ms/step - loss: 0.0161 - accuracy: 1.0000 - val_loss: 0.9975 - val_accuracy: 0.6923\n",
            "Epoch 47/50\n",
            "9/9 [==============================] - 0s 29ms/step - loss: 0.0163 - accuracy: 1.0000 - val_loss: 1.0226 - val_accuracy: 0.6923\n",
            "Epoch 48/50\n",
            "9/9 [==============================] - 0s 30ms/step - loss: 0.0147 - accuracy: 1.0000 - val_loss: 1.0714 - val_accuracy: 0.7077\n",
            "Epoch 49/50\n",
            "9/9 [==============================] - 0s 29ms/step - loss: 0.0146 - accuracy: 1.0000 - val_loss: 1.0589 - val_accuracy: 0.7231\n",
            "Epoch 50/50\n",
            "9/9 [==============================] - 0s 30ms/step - loss: 0.0131 - accuracy: 1.0000 - val_loss: 1.0518 - val_accuracy: 0.7231\n"
          ],
          "name": "stdout"
        },
        {
          "output_type": "execute_result",
          "data": {
            "text/plain": [
              "<tensorflow.python.keras.callbacks.History at 0x7f6a0489e310>"
            ]
          },
          "metadata": {
            "tags": []
          },
          "execution_count": 30
        }
      ]
    },
    {
      "cell_type": "code",
      "metadata": {
        "id": "rcz3crHVkwek"
      },
      "source": [
        "from keras.layers import LSTM\n",
        "n_timesteps=4\n",
        "n_features=8192\n",
        "n_outputs=7\n",
        "model = Sequential()\n",
        "\n",
        "#model.add(Dropout(0.5))\n",
        "#model.add(LSTM(100))\n",
        "model.add(LSTM(20, input_shape=( n_timesteps,n_features),  return_sequences=True))\n",
        "model.add(Dropout(0.5))\n",
        "model.add(Flatten())\n",
        "#model.add(Dense(3200, activation='relu'))\n",
        "model.add(Dense(7, activation='softmax'))\n",
        "\n",
        "model.compile(loss='categorical_crossentropy', optimizer='adam', metrics=['accuracy'])"
      ],
      "execution_count": null,
      "outputs": []
    },
    {
      "cell_type": "code",
      "metadata": {
        "id": "U-JPaxDCk0LR",
        "colab": {
          "base_uri": "https://localhost:8080/"
        },
        "outputId": "c9c9f5dd-f45b-4d27-ef95-199b62a59469"
      },
      "source": [
        "model.fit(trainf, btrain, validation_data=(testf, ctest), epochs=50)"
      ],
      "execution_count": null,
      "outputs": [
        {
          "output_type": "stream",
          "text": [
            "Epoch 1/50\n",
            "9/9 [==============================] - 2s 87ms/step - loss: 1.8945 - accuracy: 0.2518 - val_loss: 1.6431 - val_accuracy: 0.4154\n",
            "Epoch 2/50\n",
            "9/9 [==============================] - 0s 28ms/step - loss: 1.4831 - accuracy: 0.4521 - val_loss: 1.5137 - val_accuracy: 0.5077\n",
            "Epoch 3/50\n",
            "9/9 [==============================] - 0s 28ms/step - loss: 1.3990 - accuracy: 0.5141 - val_loss: 1.4350 - val_accuracy: 0.5231\n",
            "Epoch 4/50\n",
            "9/9 [==============================] - 0s 29ms/step - loss: 1.2029 - accuracy: 0.5931 - val_loss: 1.3664 - val_accuracy: 0.5385\n",
            "Epoch 5/50\n",
            "9/9 [==============================] - 0s 29ms/step - loss: 1.2878 - accuracy: 0.5262 - val_loss: 1.3928 - val_accuracy: 0.5846\n",
            "Epoch 6/50\n",
            "9/9 [==============================] - 0s 30ms/step - loss: 1.0670 - accuracy: 0.6183 - val_loss: 1.2611 - val_accuracy: 0.6308\n",
            "Epoch 7/50\n",
            "9/9 [==============================] - 0s 31ms/step - loss: 1.0105 - accuracy: 0.6449 - val_loss: 1.2499 - val_accuracy: 0.6462\n",
            "Epoch 8/50\n",
            "9/9 [==============================] - 0s 30ms/step - loss: 1.0626 - accuracy: 0.6320 - val_loss: 1.2589 - val_accuracy: 0.6615\n",
            "Epoch 9/50\n",
            "9/9 [==============================] - 0s 29ms/step - loss: 0.9660 - accuracy: 0.6814 - val_loss: 1.2053 - val_accuracy: 0.6615\n",
            "Epoch 10/50\n",
            "9/9 [==============================] - 0s 29ms/step - loss: 0.8670 - accuracy: 0.7336 - val_loss: 1.1720 - val_accuracy: 0.6923\n",
            "Epoch 11/50\n",
            "9/9 [==============================] - 0s 29ms/step - loss: 0.8075 - accuracy: 0.7643 - val_loss: 1.1697 - val_accuracy: 0.6308\n",
            "Epoch 12/50\n",
            "9/9 [==============================] - 0s 28ms/step - loss: 0.8443 - accuracy: 0.7255 - val_loss: 1.2240 - val_accuracy: 0.6154\n",
            "Epoch 13/50\n",
            "9/9 [==============================] - 0s 30ms/step - loss: 0.7744 - accuracy: 0.7749 - val_loss: 1.1172 - val_accuracy: 0.6308\n",
            "Epoch 14/50\n",
            "9/9 [==============================] - 0s 30ms/step - loss: 0.7456 - accuracy: 0.7388 - val_loss: 1.1086 - val_accuracy: 0.6462\n",
            "Epoch 15/50\n",
            "9/9 [==============================] - 0s 28ms/step - loss: 0.6143 - accuracy: 0.7788 - val_loss: 1.0679 - val_accuracy: 0.6615\n",
            "Epoch 16/50\n",
            "9/9 [==============================] - 0s 30ms/step - loss: 0.5630 - accuracy: 0.8518 - val_loss: 1.0663 - val_accuracy: 0.6462\n",
            "Epoch 17/50\n",
            "9/9 [==============================] - 0s 29ms/step - loss: 0.5702 - accuracy: 0.8195 - val_loss: 1.0325 - val_accuracy: 0.6615\n",
            "Epoch 18/50\n",
            "9/9 [==============================] - 0s 29ms/step - loss: 0.5184 - accuracy: 0.8180 - val_loss: 1.1512 - val_accuracy: 0.6308\n",
            "Epoch 19/50\n",
            "9/9 [==============================] - 0s 29ms/step - loss: 0.4808 - accuracy: 0.8860 - val_loss: 1.0362 - val_accuracy: 0.6769\n",
            "Epoch 20/50\n",
            "9/9 [==============================] - 0s 29ms/step - loss: 0.4563 - accuracy: 0.8844 - val_loss: 1.0468 - val_accuracy: 0.6462\n",
            "Epoch 21/50\n",
            "9/9 [==============================] - 0s 28ms/step - loss: 0.3945 - accuracy: 0.8925 - val_loss: 1.0962 - val_accuracy: 0.6615\n",
            "Epoch 22/50\n",
            "9/9 [==============================] - 0s 30ms/step - loss: 0.3775 - accuracy: 0.8996 - val_loss: 0.9577 - val_accuracy: 0.6615\n",
            "Epoch 23/50\n",
            "9/9 [==============================] - 0s 31ms/step - loss: 0.3570 - accuracy: 0.9041 - val_loss: 1.0438 - val_accuracy: 0.7077\n",
            "Epoch 24/50\n",
            "9/9 [==============================] - 0s 29ms/step - loss: 0.3312 - accuracy: 0.9115 - val_loss: 0.9336 - val_accuracy: 0.6923\n",
            "Epoch 25/50\n",
            "9/9 [==============================] - 0s 30ms/step - loss: 0.3663 - accuracy: 0.9151 - val_loss: 0.9593 - val_accuracy: 0.6923\n",
            "Epoch 26/50\n",
            "9/9 [==============================] - 0s 31ms/step - loss: 0.2930 - accuracy: 0.9501 - val_loss: 0.9664 - val_accuracy: 0.6615\n",
            "Epoch 27/50\n",
            "9/9 [==============================] - 0s 30ms/step - loss: 0.2256 - accuracy: 0.9801 - val_loss: 0.9371 - val_accuracy: 0.6923\n",
            "Epoch 28/50\n",
            "9/9 [==============================] - 0s 28ms/step - loss: 0.2174 - accuracy: 0.9792 - val_loss: 1.0010 - val_accuracy: 0.6923\n",
            "Epoch 29/50\n",
            "9/9 [==============================] - 0s 29ms/step - loss: 0.1899 - accuracy: 0.9758 - val_loss: 0.9080 - val_accuracy: 0.7077\n",
            "Epoch 30/50\n",
            "9/9 [==============================] - 0s 30ms/step - loss: 0.1818 - accuracy: 0.9911 - val_loss: 1.0136 - val_accuracy: 0.6923\n",
            "Epoch 31/50\n",
            "9/9 [==============================] - 0s 29ms/step - loss: 0.1983 - accuracy: 0.9880 - val_loss: 1.0417 - val_accuracy: 0.6615\n",
            "Epoch 32/50\n",
            "9/9 [==============================] - 0s 27ms/step - loss: 0.1444 - accuracy: 0.9842 - val_loss: 0.9597 - val_accuracy: 0.6923\n",
            "Epoch 33/50\n",
            "9/9 [==============================] - 0s 30ms/step - loss: 0.1722 - accuracy: 0.9797 - val_loss: 0.9171 - val_accuracy: 0.6923\n",
            "Epoch 34/50\n",
            "9/9 [==============================] - 0s 29ms/step - loss: 0.1493 - accuracy: 0.9858 - val_loss: 1.0529 - val_accuracy: 0.6769\n",
            "Epoch 35/50\n",
            "9/9 [==============================] - 0s 29ms/step - loss: 0.1288 - accuracy: 0.9850 - val_loss: 1.1081 - val_accuracy: 0.6923\n",
            "Epoch 36/50\n",
            "9/9 [==============================] - 0s 28ms/step - loss: 0.1306 - accuracy: 0.9965 - val_loss: 0.9513 - val_accuracy: 0.6923\n",
            "Epoch 37/50\n",
            "9/9 [==============================] - 0s 29ms/step - loss: 0.1826 - accuracy: 0.9763 - val_loss: 0.9958 - val_accuracy: 0.6923\n",
            "Epoch 38/50\n",
            "9/9 [==============================] - 0s 27ms/step - loss: 0.0965 - accuracy: 1.0000 - val_loss: 1.0367 - val_accuracy: 0.6615\n",
            "Epoch 39/50\n",
            "9/9 [==============================] - 0s 28ms/step - loss: 0.1299 - accuracy: 0.9951 - val_loss: 1.0211 - val_accuracy: 0.6615\n",
            "Epoch 40/50\n",
            "9/9 [==============================] - 0s 29ms/step - loss: 0.0985 - accuracy: 1.0000 - val_loss: 1.0166 - val_accuracy: 0.6769\n",
            "Epoch 41/50\n",
            "9/9 [==============================] - 0s 28ms/step - loss: 0.1000 - accuracy: 1.0000 - val_loss: 1.0453 - val_accuracy: 0.6769\n",
            "Epoch 42/50\n",
            "9/9 [==============================] - 0s 27ms/step - loss: 0.0946 - accuracy: 0.9948 - val_loss: 1.0333 - val_accuracy: 0.7077\n",
            "Epoch 43/50\n",
            "9/9 [==============================] - 0s 27ms/step - loss: 0.0784 - accuracy: 1.0000 - val_loss: 0.9956 - val_accuracy: 0.6923\n",
            "Epoch 44/50\n",
            "9/9 [==============================] - 0s 27ms/step - loss: 0.0948 - accuracy: 1.0000 - val_loss: 0.9699 - val_accuracy: 0.6615\n",
            "Epoch 45/50\n",
            "9/9 [==============================] - 0s 26ms/step - loss: 0.1085 - accuracy: 0.9984 - val_loss: 1.0713 - val_accuracy: 0.6769\n",
            "Epoch 46/50\n",
            "9/9 [==============================] - 0s 29ms/step - loss: 0.0907 - accuracy: 1.0000 - val_loss: 0.9995 - val_accuracy: 0.6615\n",
            "Epoch 47/50\n",
            "9/9 [==============================] - 0s 26ms/step - loss: 0.0936 - accuracy: 0.9984 - val_loss: 1.0098 - val_accuracy: 0.6923\n",
            "Epoch 48/50\n",
            "9/9 [==============================] - 0s 28ms/step - loss: 0.0703 - accuracy: 0.9972 - val_loss: 1.0456 - val_accuracy: 0.6769\n",
            "Epoch 49/50\n",
            "9/9 [==============================] - 0s 31ms/step - loss: 0.0734 - accuracy: 0.9963 - val_loss: 0.9733 - val_accuracy: 0.6769\n",
            "Epoch 50/50\n",
            "9/9 [==============================] - 0s 28ms/step - loss: 0.0735 - accuracy: 1.0000 - val_loss: 1.0688 - val_accuracy: 0.6769\n"
          ],
          "name": "stdout"
        },
        {
          "output_type": "execute_result",
          "data": {
            "text/plain": [
              "<tensorflow.python.keras.callbacks.History at 0x7f6a02bc02d0>"
            ]
          },
          "metadata": {
            "tags": []
          },
          "execution_count": 32
        }
      ]
    }
  ]
}