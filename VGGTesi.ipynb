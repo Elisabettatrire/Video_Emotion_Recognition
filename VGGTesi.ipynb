{
  "nbformat": 4,
  "nbformat_minor": 0,
  "metadata": {
    "colab": {
      "name": "VGGTesi.ipynb",
      "provenance": [],
      "collapsed_sections": []
    },
    "kernelspec": {
      "name": "python3",
      "display_name": "Python 3"
    },
    "language_info": {
      "name": "python"
    }
  },
  "cells": [
    {
      "cell_type": "code",
      "metadata": {
        "id": "mqKuri2XgIGm"
      },
      "source": [
        "#load the necessary libraries\n",
        "from tensorflow.keras.applications.vgg16 import VGG16\n",
        "from tensorflow.keras.preprocessing import image\n",
        "from tensorflow.keras.applications.vgg16 import preprocess_input\n",
        "from keras.preprocessing.image import ImageDataGenerator, load_img, img_to_array\n",
        "import numpy as np\n",
        "import tensorflow as tf\n",
        "from keras import callbacks\n",
        "from keras import optimizers\n",
        "from keras.engine import Model\n",
        "from keras.layers import Dropout, Flatten, Dense\n",
        "from keras.optimizers import Adam\n",
        "from keras.applications import VGG16\n",
        "from keras.datasets import cifar10\n",
        "from keras.utils import to_categorical"
      ],
      "execution_count": null,
      "outputs": []
    },
    {
      "cell_type": "code",
      "metadata": {
        "colab": {
          "base_uri": "https://localhost:8080/"
        },
        "id": "RuV3mIa6X5Pq",
        "outputId": "9896cac2-4d40-45f8-f379-b632ca49f5d8"
      },
      "source": [
        "#load the dataset and reshape its dimensons to a size which led to the best results in past experiments (150x150)\n",
        "\n",
        "#load the training set (about 80% of the entire dataset)\n",
        "\n",
        "train_datagen = ImageDataGenerator(rescale=1./255)\n",
        "X_train = train_datagen.flow_from_directory(\n",
        "        '.../TIROCINIO/train_okco',\n",
        "        target_size=(150,150),\n",
        "        batch_size=50,\n",
        "        shuffle=False,\n",
        "        class_mode=\"categorical\"\n",
        "    )"
      ],
      "execution_count": null,
      "outputs": [
        {
          "output_type": "stream",
          "text": [
            "Found 2407 images belonging to 7 classes.\n"
          ],
          "name": "stdout"
        }
      ]
    },
    {
      "cell_type": "code",
      "metadata": {
        "colab": {
          "base_uri": "https://localhost:8080/"
        },
        "id": "r1V4e7kVYXkv",
        "outputId": "43c224df-3d20-4d21-fabb-b5bc05df5a04"
      },
      "source": [
        "#load the test set (about 20% of the entire dataset). Images are different from ones of the training set\n",
        "\n",
        "test_datagen = ImageDataGenerator(rescale=1./255)\n",
        "X_test = train_datagen.flow_from_directory(\n",
        "        '.../TIROCINIO/test_okc',\n",
        "        target_size=(150,150),\n",
        "        batch_size=50,\n",
        "        shuffle=False,\n",
        "        class_mode=\"categorical\"\n",
        "    )"
      ],
      "execution_count": null,
      "outputs": [
        {
          "output_type": "stream",
          "text": [
            "Found 581 images belonging to 7 classes.\n"
          ],
          "name": "stdout"
        }
      ]
    },
    {
      "cell_type": "code",
      "metadata": {
        "colab": {
          "base_uri": "https://localhost:8080/"
        },
        "id": "A5F0rhf-LMZn",
        "outputId": "8c2712b9-9618-409b-e35e-7719d7fb6344"
      },
      "source": [
        "#load the VGG16 model from Keras, without the top layers\n",
        "\n",
        "base_model = tf.keras.applications.VGG16(weights='imagenet', include_top=False, input_shape=(150,150,3))\n",
        "base_model.summary()"
      ],
      "execution_count": null,
      "outputs": [
        {
          "output_type": "stream",
          "text": [
            "Downloading data from https://storage.googleapis.com/tensorflow/keras-applications/vgg16/vgg16_weights_tf_dim_ordering_tf_kernels_notop.h5\n",
            "58892288/58889256 [==============================] - 0s 0us/step\n",
            "Model: \"vgg16\"\n",
            "_________________________________________________________________\n",
            "Layer (type)                 Output Shape              Param #   \n",
            "=================================================================\n",
            "input_1 (InputLayer)         [(None, 150, 150, 3)]     0         \n",
            "_________________________________________________________________\n",
            "block1_conv1 (Conv2D)        (None, 150, 150, 64)      1792      \n",
            "_________________________________________________________________\n",
            "block1_conv2 (Conv2D)        (None, 150, 150, 64)      36928     \n",
            "_________________________________________________________________\n",
            "block1_pool (MaxPooling2D)   (None, 75, 75, 64)        0         \n",
            "_________________________________________________________________\n",
            "block2_conv1 (Conv2D)        (None, 75, 75, 128)       73856     \n",
            "_________________________________________________________________\n",
            "block2_conv2 (Conv2D)        (None, 75, 75, 128)       147584    \n",
            "_________________________________________________________________\n",
            "block2_pool (MaxPooling2D)   (None, 37, 37, 128)       0         \n",
            "_________________________________________________________________\n",
            "block3_conv1 (Conv2D)        (None, 37, 37, 256)       295168    \n",
            "_________________________________________________________________\n",
            "block3_conv2 (Conv2D)        (None, 37, 37, 256)       590080    \n",
            "_________________________________________________________________\n",
            "block3_conv3 (Conv2D)        (None, 37, 37, 256)       590080    \n",
            "_________________________________________________________________\n",
            "block3_pool (MaxPooling2D)   (None, 18, 18, 256)       0         \n",
            "_________________________________________________________________\n",
            "block4_conv1 (Conv2D)        (None, 18, 18, 512)       1180160   \n",
            "_________________________________________________________________\n",
            "block4_conv2 (Conv2D)        (None, 18, 18, 512)       2359808   \n",
            "_________________________________________________________________\n",
            "block4_conv3 (Conv2D)        (None, 18, 18, 512)       2359808   \n",
            "_________________________________________________________________\n",
            "block4_pool (MaxPooling2D)   (None, 9, 9, 512)         0         \n",
            "_________________________________________________________________\n",
            "block5_conv1 (Conv2D)        (None, 9, 9, 512)         2359808   \n",
            "_________________________________________________________________\n",
            "block5_conv2 (Conv2D)        (None, 9, 9, 512)         2359808   \n",
            "_________________________________________________________________\n",
            "block5_conv3 (Conv2D)        (None, 9, 9, 512)         2359808   \n",
            "_________________________________________________________________\n",
            "block5_pool (MaxPooling2D)   (None, 4, 4, 512)         0         \n",
            "=================================================================\n",
            "Total params: 14,714,688\n",
            "Trainable params: 14,714,688\n",
            "Non-trainable params: 0\n",
            "_________________________________________________________________\n"
          ],
          "name": "stdout"
        }
      ]
    },
    {
      "cell_type": "code",
      "metadata": {
        "id": "qka_U3Kb69HK"
      },
      "source": [
        "#LAYERS FOR FEATURE EXTRACTION\n",
        "\n",
        "flat1 = Flatten()(base_model.layers[-1].output)\n",
        "\n",
        "# define new model\n",
        "model = Model(inputs=base_model.inputs, outputs=flat1)"
      ],
      "execution_count": null,
      "outputs": []
    },
    {
      "cell_type": "code",
      "metadata": {
        "id": "h122gdqkw-RE"
      },
      "source": [
        "#LAYERS FOR CLASSIFICATION\n",
        "\n",
        "# add new classifier layers\n",
        "\n",
        "flat1 = Flatten()(base_model.layers[-1].output)\n",
        "class1 = Dense(4096, activation='relu')(flat1)\n",
        "output = Dense(7, activation='softmax')(class1)\n",
        "# define new model\n",
        "model = Model(inputs=base_model.inputs, outputs=output)"
      ],
      "execution_count": null,
      "outputs": []
    },
    {
      "cell_type": "code",
      "metadata": {
        "id": "p0Y3ZxPhA0wY"
      },
      "source": [
        "#Set all layers,except the last one to not trainable\n",
        "\n",
        "for layer in model.layers[:-1]: layer.trainable=False"
      ],
      "execution_count": null,
      "outputs": []
    },
    {
      "cell_type": "code",
      "metadata": {
        "id": "gvnX8uzi-PMY",
        "colab": {
          "base_uri": "https://localhost:8080/"
        },
        "outputId": "c3641e01-1a5e-4bd4-ebb5-043d38552d4e"
      },
      "source": [
        "model.summary()"
      ],
      "execution_count": null,
      "outputs": [
        {
          "output_type": "stream",
          "text": [
            "Model: \"model_1\"\n",
            "_________________________________________________________________\n",
            "Layer (type)                 Output Shape              Param #   \n",
            "=================================================================\n",
            "input_1 (InputLayer)         [(None, 150, 150, 3)]     0         \n",
            "_________________________________________________________________\n",
            "block1_conv1 (Conv2D)        (None, 150, 150, 64)      1792      \n",
            "_________________________________________________________________\n",
            "block1_conv2 (Conv2D)        (None, 150, 150, 64)      36928     \n",
            "_________________________________________________________________\n",
            "block1_pool (MaxPooling2D)   (None, 75, 75, 64)        0         \n",
            "_________________________________________________________________\n",
            "block2_conv1 (Conv2D)        (None, 75, 75, 128)       73856     \n",
            "_________________________________________________________________\n",
            "block2_conv2 (Conv2D)        (None, 75, 75, 128)       147584    \n",
            "_________________________________________________________________\n",
            "block2_pool (MaxPooling2D)   (None, 37, 37, 128)       0         \n",
            "_________________________________________________________________\n",
            "block3_conv1 (Conv2D)        (None, 37, 37, 256)       295168    \n",
            "_________________________________________________________________\n",
            "block3_conv2 (Conv2D)        (None, 37, 37, 256)       590080    \n",
            "_________________________________________________________________\n",
            "block3_conv3 (Conv2D)        (None, 37, 37, 256)       590080    \n",
            "_________________________________________________________________\n",
            "block3_pool (MaxPooling2D)   (None, 18, 18, 256)       0         \n",
            "_________________________________________________________________\n",
            "block4_conv1 (Conv2D)        (None, 18, 18, 512)       1180160   \n",
            "_________________________________________________________________\n",
            "block4_conv2 (Conv2D)        (None, 18, 18, 512)       2359808   \n",
            "_________________________________________________________________\n",
            "block4_conv3 (Conv2D)        (None, 18, 18, 512)       2359808   \n",
            "_________________________________________________________________\n",
            "block4_pool (MaxPooling2D)   (None, 9, 9, 512)         0         \n",
            "_________________________________________________________________\n",
            "block5_conv1 (Conv2D)        (None, 9, 9, 512)         2359808   \n",
            "_________________________________________________________________\n",
            "block5_conv2 (Conv2D)        (None, 9, 9, 512)         2359808   \n",
            "_________________________________________________________________\n",
            "block5_conv3 (Conv2D)        (None, 9, 9, 512)         2359808   \n",
            "_________________________________________________________________\n",
            "block5_pool (MaxPooling2D)   (None, 4, 4, 512)         0         \n",
            "_________________________________________________________________\n",
            "flatten_1 (Flatten)          (None, 8192)              0         \n",
            "_________________________________________________________________\n",
            "dense (Dense)                (None, 4096)              33558528  \n",
            "_________________________________________________________________\n",
            "dense_1 (Dense)              (None, 7)                 28679     \n",
            "=================================================================\n",
            "Total params: 48,301,895\n",
            "Trainable params: 28,679\n",
            "Non-trainable params: 48,273,216\n",
            "_________________________________________________________________\n"
          ],
          "name": "stdout"
        }
      ]
    },
    {
      "cell_type": "code",
      "metadata": {
        "id": "WytXC2USBTzi"
      },
      "source": [
        "#compile the model\n",
        "\n",
        "from tensorflow.keras.optimizers import Adam\n",
        "model.compile(optimizer=Adam(learning_rate=0.001),\n",
        "              loss='categorical_crossentropy', metrics=['accuracy'])"
      ],
      "execution_count": null,
      "outputs": []
    },
    {
      "cell_type": "code",
      "metadata": {
        "colab": {
          "base_uri": "https://localhost:8080/"
        },
        "id": "jXKhZ2jvhNgW",
        "outputId": "969ed52c-c13a-4856-e4e4-51ed5e5e67e8"
      },
      "source": [
        "#train the model\n",
        "\n",
        "from sklearn.metrics import confusion_matrix\n",
        "epochs=20\n",
        "for i in range(epochs):\n",
        "\n",
        " model.fit(\n",
        "  X_train,\n",
        "  validation_data=X_test,\n",
        "  epochs=1\n",
        " )\n",
        " "
      ],
      "execution_count": null,
      "outputs": [
        {
          "output_type": "stream",
          "text": [
            "49/49 [==============================] - 797s 16s/step - loss: 2.9146 - accuracy: 0.2440 - val_loss: 2.1070 - val_accuracy: 0.2995\n",
            "49/49 [==============================] - 656s 13s/step - loss: 1.6574 - accuracy: 0.3880 - val_loss: 1.7110 - val_accuracy: 0.5232\n",
            "49/49 [==============================] - 651s 13s/step - loss: 1.4071 - accuracy: 0.5459 - val_loss: 1.5760 - val_accuracy: 0.5232\n",
            "49/49 [==============================] - 651s 13s/step - loss: 1.3318 - accuracy: 0.5077 - val_loss: 1.4871 - val_accuracy: 0.5749\n",
            "49/49 [==============================] - 655s 13s/step - loss: 1.1214 - accuracy: 0.6921 - val_loss: 2.1705 - val_accuracy: 0.4733\n",
            "49/49 [==============================] - 654s 13s/step - loss: 1.1878 - accuracy: 0.6340 - val_loss: 1.3426 - val_accuracy: 0.5491\n",
            "49/49 [==============================] - 652s 13s/step - loss: 0.9810 - accuracy: 0.6685 - val_loss: 1.2566 - val_accuracy: 0.5456\n",
            "49/49 [==============================] - 650s 13s/step - loss: 0.7400 - accuracy: 0.7586 - val_loss: 1.1702 - val_accuracy: 0.5473\n",
            "49/49 [==============================] - 650s 13s/step - loss: 0.8014 - accuracy: 0.6830 - val_loss: 1.3337 - val_accuracy: 0.5301\n",
            "49/49 [==============================] - 650s 13s/step - loss: 0.7440 - accuracy: 0.7291 - val_loss: 1.0609 - val_accuracy: 0.6678\n",
            "49/49 [==============================] - 649s 13s/step - loss: 0.6221 - accuracy: 0.8205 - val_loss: 1.5860 - val_accuracy: 0.5628\n",
            "49/49 [==============================] - 649s 13s/step - loss: 0.7508 - accuracy: 0.7246 - val_loss: 1.0780 - val_accuracy: 0.6627\n",
            "49/49 [==============================] - 650s 13s/step - loss: 0.7237 - accuracy: 0.7624 - val_loss: 1.2367 - val_accuracy: 0.5921\n",
            "49/49 [==============================] - 649s 13s/step - loss: 0.6386 - accuracy: 0.7815 - val_loss: 1.0923 - val_accuracy: 0.5921\n",
            "49/49 [==============================] - 650s 13s/step - loss: 0.4824 - accuracy: 0.8484 - val_loss: 1.2242 - val_accuracy: 0.6299\n",
            "49/49 [==============================] - 649s 13s/step - loss: 0.5043 - accuracy: 0.8592 - val_loss: 1.1531 - val_accuracy: 0.5835\n",
            "49/49 [==============================] - 652s 13s/step - loss: 0.4847 - accuracy: 0.8621 - val_loss: 0.9429 - val_accuracy: 0.6592\n",
            "49/49 [==============================] - 654s 13s/step - loss: 0.4844 - accuracy: 0.8405 - val_loss: 1.0259 - val_accuracy: 0.6506\n",
            "49/49 [==============================] - 658s 13s/step - loss: 0.4343 - accuracy: 0.8641 - val_loss: 0.9684 - val_accuracy: 0.6816\n",
            "49/49 [==============================] - 656s 13s/step - loss: 0.4202 - accuracy: 0.8625 - val_loss: 1.0946 - val_accuracy: 0.6592\n"
          ],
          "name": "stdout"
        }
      ]
    },
    {
      "cell_type": "code",
      "metadata": {
        "colab": {
          "base_uri": "https://localhost:8080/"
        },
        "id": "U_vnnI7Wen7j",
        "outputId": "79a8fbc4-e18d-4265-f7ed-aadac2472a2d"
      },
      "source": [
        "#confusion matrix and classification report calculated for training set\n",
        "\n",
        "import numpy as np\n",
        "from sklearn.metrics import confusion_matrix,classification_report\n",
        "batch_size = X_test.batch_size\n",
        "num_of_test_samples = X_test.samples\n",
        "predictions = model.predict(X_test,  num_of_test_samples // batch_size+1)\n",
        "\n",
        "y_pred2 = np.argmax(predictions, axis=1)\n",
        "\n",
        "true_classes = X_test.classes\n",
        "class_labels = list(X_test.class_indices.keys())   \n",
        "\n",
        "print(class_labels)\n",
        "\n",
        "print(confusion_matrix(X_test.classes, y_pred2))\n",
        "\n",
        "report = classification_report(true_classes, y_pred2, target_names=class_labels)\n",
        "print(report)"
      ],
      "execution_count": null,
      "outputs": [
        {
          "output_type": "stream",
          "text": [
            "['1_anger', '2_contempt', '3_disgust', '4_fear', '5_happy', '6_sadness', '7_surprise']\n",
            "[[ 38  16   9   0   4   9   0]\n",
            " [  5  16   0   0  11   0   0]\n",
            " [  6   0  63   0  14   1   9]\n",
            " [  0   0   0   0  44   0  11]\n",
            " [  2   1   0   0 122   3   6]\n",
            " [ 13   0   2   0  14  17   7]\n",
            " [  0   6   0   0   4   1 127]]\n",
            "              precision    recall  f1-score   support\n",
            "\n",
            "     1_anger       0.59      0.50      0.54        76\n",
            "  2_contempt       0.41      0.50      0.45        32\n",
            "   3_disgust       0.85      0.68      0.75        93\n",
            "      4_fear       0.00      0.00      0.00        55\n",
            "     5_happy       0.57      0.91      0.70       134\n",
            "   6_sadness       0.55      0.32      0.40        53\n",
            "  7_surprise       0.79      0.92      0.85       138\n",
            "\n",
            "    accuracy                           0.66       581\n",
            "   macro avg       0.54      0.55      0.53       581\n",
            "weighted avg       0.61      0.66      0.62       581\n",
            "\n"
          ],
          "name": "stdout"
        },
        {
          "output_type": "stream",
          "text": [
            "/usr/local/lib/python3.7/dist-packages/sklearn/metrics/_classification.py:1272: UndefinedMetricWarning: Precision and F-score are ill-defined and being set to 0.0 in labels with no predicted samples. Use `zero_division` parameter to control this behavior.\n",
            "  _warn_prf(average, modifier, msg_start, len(result))\n"
          ],
          "name": "stderr"
        }
      ]
    },
    {
      "cell_type": "code",
      "metadata": {
        "colab": {
          "base_uri": "https://localhost:8080/"
        },
        "id": "gnLTMSLteqtW",
        "outputId": "17340ed5-2c81-4e71-939c-402e302cd25f"
      },
      "source": [
        "#confusion matrix and classification report calculated for test set\n",
        "\n",
        "import numpy as np\n",
        "from sklearn.metrics import confusion_matrix,classification_report\n",
        "batch_size = X_train.batch_size\n",
        "num_of_test_samples = X_train.samples\n",
        "predictions = model.predict(X_train)\n",
        "\n",
        "y_pred = np.argmax(predictions, axis=1)\n",
        "\n",
        "true_classes = X_train.classes\n",
        "class_labels = list(X_train.class_indices.keys())   \n",
        "\n",
        "print(class_labels)\n",
        "\n",
        "print(confusion_matrix(X_train.classes, y_pred))\n",
        "\n",
        "report = classification_report(true_classes, y_pred, target_names=class_labels)\n",
        "print(report)"
      ],
      "execution_count": null,
      "outputs": [
        {
          "output_type": "stream",
          "text": [
            "['1_anger', '2_contempt', '3_disgust', '4_fear', '5_happy', '6_sadness', '7_surprise']\n",
            "[[388  30   0   0  13   9   5]\n",
            " [  0  85   0   0   0   0   0]\n",
            " [  5   2 269   0  34  13  29]\n",
            " [  1  31   1  85  49  25  24]\n",
            " [  0   3   0   0 524   0   8]\n",
            " [  0   0   1   0   2 221   0]\n",
            " [  0   3   0   0   3   1 543]]\n",
            "              precision    recall  f1-score   support\n",
            "\n",
            "     1_anger       0.98      0.87      0.92       445\n",
            "  2_contempt       0.55      1.00      0.71        85\n",
            "   3_disgust       0.99      0.76      0.86       352\n",
            "      4_fear       1.00      0.39      0.56       216\n",
            "     5_happy       0.84      0.98      0.90       535\n",
            "   6_sadness       0.82      0.99      0.90       224\n",
            "  7_surprise       0.89      0.99      0.94       550\n",
            "\n",
            "    accuracy                           0.88      2407\n",
            "   macro avg       0.87      0.85      0.83      2407\n",
            "weighted avg       0.90      0.88      0.87      2407\n",
            "\n"
          ],
          "name": "stdout"
        }
      ]
    }
  ]
}